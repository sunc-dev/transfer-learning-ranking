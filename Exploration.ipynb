{
  "nbformat": 4,
  "nbformat_minor": 0,
  "metadata": {
    "colab": {
      "name": "Exploration.ipynb",
      "provenance": [],
      "collapsed_sections": [],
      "toc_visible": true
    },
    "kernelspec": {
      "display_name": "Python 3",
      "name": "python3"
    },
    "accelerator": "GPU"
  },
  "cells": [
    {
      "cell_type": "markdown",
      "metadata": {
        "id": "IgpfR1cTlPra"
      },
      "source": [
        "# Introduction\n"
      ]
    },
    {
      "cell_type": "markdown",
      "metadata": {
        "id": "n0ZDQfYGlUGi"
      },
      "source": [
        "In this notebook, I will be exploring, understanding different algorithms, methods to rank top 5 similiar documents based on supplied corpus. Due to resourcing, I will applying transfer learning with static word embeddings to generate similarity scores for the provided corpus."
      ]
    },
    {
      "cell_type": "markdown",
      "metadata": {
        "id": "0IcUipWuYyff"
      },
      "source": [
        "## Setup\n"
      ]
    },
    {
      "cell_type": "code",
      "metadata": {
        "id": "cIZ1KDBlYcAk",
        "colab": {
          "base_uri": "https://localhost:8080/"
        },
        "outputId": "989b163f-5c64-4967-f076-1538fae5d608"
      },
      "source": [
        "#@title\n",
        "#Install required mods - suppress outputs\n",
        "!pip install contractions &> /dev/null\n",
        "!pip install big-O-calculator &> /dev/null\n"
      ],
      "execution_count": null,
      "outputs": [
        {
          "output_type": "stream",
          "text": [
            "Collecting big-O-calculator\n",
            "  Downloading https://files.pythonhosted.org/packages/ec/cb/d04c318a65a4cc9b9a88d64d7c1ee482894b15b91f134c3cda295ad72060/big_O_calculator-0.0.9.8.4-py3-none-any.whl\n",
            "Installing collected packages: big-O-calculator\n",
            "Successfully installed big-O-calculator-0.0.9.8.4\n"
          ],
          "name": "stdout"
        }
      ]
    },
    {
      "cell_type": "markdown",
      "metadata": {
        "id": "M6WyASfjnISy"
      },
      "source": [
        "## Imports"
      ]
    },
    {
      "cell_type": "code",
      "metadata": {
        "colab": {
          "base_uri": "https://localhost:8080/"
        },
        "id": "bu1Vc4Y0WhyK",
        "outputId": "8dc569d2-1897-4ade-a1a9-d7b627747cd9"
      },
      "source": [
        "#@title\n",
        "try:\n",
        "    import pandas as pd\n",
        "    import numpy as np\n",
        "    import sys, os\n",
        "    import string\n",
        "    import re, string, unicodedata\n",
        "    import contractions\n",
        "    import operator \n",
        "    import re\n",
        "    import multiprocessing\n",
        "    from absl import logging\n",
        "    import uuid\n",
        "    import collections\n",
        "    from bigO import BigO\n",
        "    from random import randint\n",
        "    #sklearn\n",
        "    from sklearn.feature_extraction.text import TfidfVectorizer\n",
        "    from sklearn.metrics.pairwise import cosine_similarity\n",
        "\n",
        "    #spacy\n",
        "    import spacy \n",
        "\n",
        "    #nltk\n",
        "    import nltk\n",
        "\n",
        "    #nltk downloads\n",
        "    nltk.download('punkt')\n",
        "    nltk.download('stopwords')\n",
        "    nltk.download('wordnet')\n",
        "    \n",
        "    from nltk.corpus import stopwords\n",
        "    from nltk.tokenize import word_tokenize\n",
        "\n",
        "    from nltk.tokenize import RegexpTokenizer\n",
        "    from nltk.stem import WordNetLemmatizer\n",
        "    from nltk.corpus import stopwords\n",
        "    from nltk.stem import PorterStemmer\n",
        "\n",
        "    #stopwords\n",
        "    english_stop_words = set(stopwords.words('english'))\n",
        "    \n",
        "    #gensim\n",
        "    import gensim\n",
        "    from gensim.models import Word2Vec\n",
        "    from gensim.scripts.glove2word2vec import glove2word2vec\n",
        "    from gensim.models import FastText\n",
        "    from gensim.models.phrases import Phrases, Phraser\n",
        "    from matplotlib import pyplot\n",
        "    from gensim.models import KeyedVectors\n",
        "    from gensim.similarities import WmdSimilarity\n",
        "    import gensim.downloader as api\n",
        "    from gensim.test.utils import datapath\n",
        "\n",
        "    #loss callbacks\n",
        "    from gensim.models.callbacks import CallbackAny2Vec\n",
        "\n",
        "    #Tensorflow\n",
        "    import tensorflow as tf\n",
        "\n",
        "    import tensorflow_hub as hub\n",
        "   \n",
        "    \n",
        "except Exception as e:\n",
        "    print(\"Some Modules are Missing {}\".format(e))\n",
        "    \n",
        "pd.set_option('display.max_columns', None)  "
      ],
      "execution_count": null,
      "outputs": [
        {
          "output_type": "stream",
          "text": [
            "[nltk_data] Downloading package punkt to /root/nltk_data...\n",
            "[nltk_data]   Unzipping tokenizers/punkt.zip.\n",
            "[nltk_data] Downloading package stopwords to /root/nltk_data...\n",
            "[nltk_data]   Unzipping corpora/stopwords.zip.\n",
            "[nltk_data] Downloading package wordnet to /root/nltk_data...\n",
            "[nltk_data]   Unzipping corpora/wordnet.zip.\n"
          ],
          "name": "stdout"
        }
      ]
    },
    {
      "cell_type": "markdown",
      "metadata": {
        "id": "hczDFJ0cVkw0"
      },
      "source": [
        "## Paths"
      ]
    },
    {
      "cell_type": "code",
      "metadata": {
        "colab": {
          "base_uri": "https://localhost:8080/"
        },
        "id": "IQ8v2ne8UtNt",
        "outputId": "daeb3c89-1511-4d0e-a32e-54be3fe067a8"
      },
      "source": [
        "\n",
        "from google.colab import drive\n",
        "drive.mount('/content/drive')"
      ],
      "execution_count": null,
      "outputs": [
        {
          "output_type": "stream",
          "text": [
            "Drive already mounted at /content/drive; to attempt to forcibly remount, call drive.mount(\"/content/drive\", force_remount=True).\n"
          ],
          "name": "stdout"
        }
      ]
    },
    {
      "cell_type": "code",
      "metadata": {
        "id": "TbnlphnWVN4W"
      },
      "source": [
        "#Data path\n",
        "data = '/content/drive/MyDrive/wattpad_test/text/corpus.tsv'"
      ],
      "execution_count": null,
      "outputs": []
    },
    {
      "cell_type": "code",
      "metadata": {
        "id": "jagJwkdxqHLj"
      },
      "source": [
        "#store embedding location for transfer learning\n",
        "WORD2VEC_EMBEDDINGS = '/content/drive/MyDrive/wattpad_test/root/input/GoogleNews-vectors-negative300.bin.gz'\n",
        "GLOVE_EMBEDDINGS =  '/content/drive/MyDrive/wattpad_test/root/input/glove2vec.txt'\n",
        "FAST_EMBEDDINGS =  '/content/drive/MyDrive/wattpad_test/root/input/crawl-300d-2M.vec'"
      ],
      "execution_count": null,
      "outputs": []
    },
    {
      "cell_type": "markdown",
      "metadata": {
        "id": "d1gtqCLF-XwC"
      },
      "source": [
        "## Load"
      ]
    },
    {
      "cell_type": "code",
      "metadata": {
        "colab": {
          "base_uri": "https://localhost:8080/"
        },
        "id": "IiuAYy3yWNb8",
        "outputId": "d3a04dfb-2081-456b-adbf-49817f932d3d"
      },
      "source": [
        "text_df = pd.read_csv(data, sep='\\t', names=['DocID', 'DocText'])\n",
        "len(text_df)"
      ],
      "execution_count": null,
      "outputs": [
        {
          "output_type": "execute_result",
          "data": {
            "text/plain": [
              "998"
            ]
          },
          "metadata": {
            "tags": []
          },
          "execution_count": 8
        }
      ]
    },
    {
      "cell_type": "code",
      "metadata": {
        "id": "vpt572R5Umzx"
      },
      "source": [
        "#check duplicates\n",
        "dups = text_df.pivot_table(index = ['DocID'], aggfunc ='size') \n",
        "#one id is duplicated which will impact recommendation aglorithm later one - rencode"
      ],
      "execution_count": null,
      "outputs": []
    },
    {
      "cell_type": "code",
      "metadata": {
        "id": "fB1PmDdqmrK8"
      },
      "source": [
        "#check duplicates\n",
        "dups = text_df.pivot_table(index = ['DocID'], aggfunc ='size') \n",
        "#one id is duplicated which will impact recommendation aglorithm later one - rencode"
      ],
      "execution_count": null,
      "outputs": []
    },
    {
      "cell_type": "code",
      "metadata": {
        "id": "vYF1EZajjAur"
      },
      "source": [
        "#rencode ids to ensure unique\n",
        "text_df['ID'] = [uuid.uuid4() for _ in range(len(text_df.index))]\n"
      ],
      "execution_count": null,
      "outputs": []
    },
    {
      "cell_type": "code",
      "metadata": {
        "id": "bbOoXkGd-Mzy"
      },
      "source": [
        "#Function to go through our text and get word frequencies\n",
        "def word_frequencies(texts):\n",
        "    sentences = texts.apply(lambda x: x.split()).values\n",
        "    vocabulary = {}\n",
        "    for sentence in sentences:\n",
        "        for word in sentence:\n",
        "            try:\n",
        "                vocabulary[word] += 1\n",
        "            except KeyError:\n",
        "                vocabulary[word] = 1\n",
        "    return vocabulary"
      ],
      "execution_count": null,
      "outputs": []
    },
    {
      "cell_type": "markdown",
      "metadata": {
        "id": "jwsjpxDWXhdS"
      },
      "source": [
        "# Text Preprocessing"
      ]
    },
    {
      "cell_type": "markdown",
      "metadata": {
        "id": "j9NxetBtGHjY"
      },
      "source": [
        "This section outlines set of steps and code for the preprocessing process."
      ]
    },
    {
      "cell_type": "code",
      "metadata": {
        "id": "KjqRBVCGWaRl"
      },
      "source": [
        "#Define a set of cleaning methods to preprocess text\n",
        "#Initialize wordnet\n",
        "lemma = WordNetLemmatizer()"
      ],
      "execution_count": null,
      "outputs": []
    },
    {
      "cell_type": "code",
      "metadata": {
        "id": "rHHHbiYSWyVm"
      },
      "source": [
        "# Preprocess functions for text\n",
        "def replace_contractions(text):\n",
        "    return contractions.fix(text)\n",
        "\n",
        "def noisey_strings(token):\n",
        "    return token not in english_stop_words and token not in list(string.punctuation)  and len(token)>2   \n",
        "\n",
        "def preprocess(text):\n",
        "    \n",
        "    #Run contractions method\n",
        "    text = replace_contractions(text)\n",
        "    text = re.sub('\\_', ' ', text)\n",
        "    text = re.sub('\\s+', ' ', text)  # remove newline chars\n",
        "    text = re.sub(\"\\'\", \"\", text)  # remove single quotes\n",
        "    text = re.sub('[0-9]+', '', text)\n",
        "    text = re.sub(\"(\\\\d|\\\\W)+\",\" \", text)\n",
        "    \n",
        "    #Normalize data - only use lemmatization to avoid misrepresentation\n",
        "    text = [lemma.lemmatize(word, pos=\"v\") for word in word_tokenize(text.lower()) if noisey_strings(word)]\n",
        "    \n",
        "    #Remove noisy strings\n",
        "    text = [word for word in text if noisey_strings(word)]\n",
        "    \n",
        "    return \" \".join(text)"
      ],
      "execution_count": null,
      "outputs": []
    },
    {
      "cell_type": "code",
      "metadata": {
        "colab": {
          "base_uri": "https://localhost:8080/"
        },
        "id": "BFaLLJlSoWYv",
        "outputId": "cf61e60a-87cc-4954-f529-94d9b51122c9"
      },
      "source": [
        "%%time\n",
        "\n",
        "text_df['DocText_Clean'] = text_df.DocText.apply(func = preprocess)"
      ],
      "execution_count": null,
      "outputs": [
        {
          "output_type": "stream",
          "text": [
            "CPU times: user 15.2 s, sys: 125 ms, total: 15.3 s\n",
            "Wall time: 15.3 s\n"
          ],
          "name": "stdout"
        }
      ]
    },
    {
      "cell_type": "code",
      "metadata": {
        "id": "azbrSqmtEHeb"
      },
      "source": [
        "# Store our vocabulary frequencies for quick review\n",
        "vocab = word_frequencies(text_df['DocText_Clean'])\n"
      ],
      "execution_count": null,
      "outputs": []
    },
    {
      "cell_type": "code",
      "metadata": {
        "id": "DdQbhy7Ay3-V"
      },
      "source": [
        "text = list(text_df['DocText_Clean'])"
      ],
      "execution_count": null,
      "outputs": []
    },
    {
      "cell_type": "code",
      "metadata": {
        "id": "Syim6pbxx_9k"
      },
      "source": [
        "#Some extra cleaning using spacy nlp pipe, for potentially missed normalizations.\n",
        "def cleaning(doc):\n",
        "    txt = [token.lemma_ for token in doc if not token.is_stop]\n",
        "    if len(txt) > 2:\n",
        "        return ' '.join(txt)"
      ],
      "execution_count": null,
      "outputs": []
    },
    {
      "cell_type": "code",
      "metadata": {
        "colab": {
          "base_uri": "https://localhost:8080/"
        },
        "id": "Ej-7p9Uvy1Ou",
        "outputId": "cdd99dcc-9fa8-42bd-b547-271adfa813d4"
      },
      "source": [
        "%%time\n",
        "nlp = spacy.load('en', disable=['ner', 'parser']) # disabling Named Entity Recognition for speed\n",
        "\n",
        "text = [cleaning(doc) for doc in nlp.pipe(text, batch_size=1000, n_threads=-1)]"
      ],
      "execution_count": null,
      "outputs": [
        {
          "output_type": "stream",
          "text": [
            "CPU times: user 33.2 s, sys: 1.65 s, total: 34.8 s\n",
            "Wall time: 35 s\n"
          ],
          "name": "stdout"
        }
      ]
    },
    {
      "cell_type": "code",
      "metadata": {
        "id": "dkDIMD6g5lN7"
      },
      "source": [
        "df_cleaned =  pd.DataFrame(text, columns=['DocText_Cleaner'])\n",
        "text_df = text_df.join(df_cleaned)"
      ],
      "execution_count": null,
      "outputs": []
    },
    {
      "cell_type": "code",
      "metadata": {
        "colab": {
          "base_uri": "https://localhost:8080/",
          "height": 419
        },
        "id": "e9-Et1EIHtHE",
        "outputId": "3562f85e-9fd6-4621-a77a-9cc52fe5bacb"
      },
      "source": [
        "text_df"
      ],
      "execution_count": null,
      "outputs": [
        {
          "output_type": "execute_result",
          "data": {
            "text/html": [
              "<div>\n",
              "<style scoped>\n",
              "    .dataframe tbody tr th:only-of-type {\n",
              "        vertical-align: middle;\n",
              "    }\n",
              "\n",
              "    .dataframe tbody tr th {\n",
              "        vertical-align: top;\n",
              "    }\n",
              "\n",
              "    .dataframe thead th {\n",
              "        text-align: right;\n",
              "    }\n",
              "</style>\n",
              "<table border=\"1\" class=\"dataframe\">\n",
              "  <thead>\n",
              "    <tr style=\"text-align: right;\">\n",
              "      <th></th>\n",
              "      <th>DocID</th>\n",
              "      <th>DocText</th>\n",
              "      <th>ID</th>\n",
              "      <th>DocText_Clean</th>\n",
              "      <th>DocText_Cleaner</th>\n",
              "    </tr>\n",
              "  </thead>\n",
              "  <tbody>\n",
              "    <tr>\n",
              "      <th>0</th>\n",
              "      <td>90041</td>\n",
              "      <td>I hear it all the time boo! Too bad I ain't go...</td>\n",
              "      <td>719f7906-f626-45f7-a0cf-f51c5f946e7d</td>\n",
              "      <td>hear time boo bad get patience anyone elses pr...</td>\n",
              "      <td>hear time boo bad patience else problem laugh ...</td>\n",
              "    </tr>\n",
              "    <tr>\n",
              "      <th>1</th>\n",
              "      <td>48027</td>\n",
              "      <td>the dirt after the rain. soaking the hot, parc...</td>\n",
              "      <td>49ec299f-8951-4b96-bc73-b24149d8c89c</td>\n",
              "      <td>dirt rain soak hot parch earth curl bed warm f...</td>\n",
              "      <td>dirt rain soak hot parch earth curl bed warm f...</td>\n",
              "    </tr>\n",
              "    <tr>\n",
              "      <th>2</th>\n",
              "      <td>44081</td>\n",
              "      <td>The night before the wedding. A light tear tri...</td>\n",
              "      <td>df4ba250-71f8-4bf9-bbdb-205d6c01f6ff</td>\n",
              "      <td>night wed light tear trickle beautiful bold br...</td>\n",
              "      <td>night would light tear trickle beautiful bold ...</td>\n",
              "    </tr>\n",
              "    <tr>\n",
              "      <th>3</th>\n",
              "      <td>54461</td>\n",
              "      <td>I caught up with Lisa quickly and grabbed her,...</td>\n",
              "      <td>28317d65-dca4-4966-8b48-2e762e3e25bf</td>\n",
              "      <td>catch lisa quickly grab throw shoulder thrash ...</td>\n",
              "      <td>catch lisa quickly grab throw shoulder thrash ...</td>\n",
              "    </tr>\n",
              "    <tr>\n",
              "      <th>4</th>\n",
              "      <td>37461</td>\n",
              "      <td>And, he said as though he had not been interru...</td>\n",
              "      <td>b6874c4b-ef5e-46af-836e-a7285a675397</td>\n",
              "      <td>say though interrupt become friends dumbledore...</td>\n",
              "      <td>interrupt friend dumbledore good guy thank tha...</td>\n",
              "    </tr>\n",
              "    <tr>\n",
              "      <th>...</th>\n",
              "      <td>...</td>\n",
              "      <td>...</td>\n",
              "      <td>...</td>\n",
              "      <td>...</td>\n",
              "      <td>...</td>\n",
              "    </tr>\n",
              "    <tr>\n",
              "      <th>993</th>\n",
              "      <td>42620</td>\n",
              "      <td>Uhmm... a day or two. I told them, my mom had ...</td>\n",
              "      <td>0170e266-8320-4629-a5fc-f373a767f0dd</td>\n",
              "      <td>uhmm day two tell mom make buy food honestly k...</td>\n",
              "      <td>uhmm day tell mom buy food honestly know hungr...</td>\n",
              "    </tr>\n",
              "    <tr>\n",
              "      <th>994</th>\n",
              "      <td>62987</td>\n",
              "      <td>Chapter 10The harbor was full of thousands of ...</td>\n",
              "      <td>67c509f5-e18d-41ad-b40d-9e24a61b2c44</td>\n",
              "      <td>chapter harbor full thousands people everyone ...</td>\n",
              "      <td>chapter harbor thousand people struggle push h...</td>\n",
              "    </tr>\n",
              "    <tr>\n",
              "      <th>995</th>\n",
              "      <td>85335</td>\n",
              "      <td>Jason's POV\"Hello.I'm Blackrose.\" Said the lit...</td>\n",
              "      <td>28fa35af-193c-4539-84cc-699b00a284ac</td>\n",
              "      <td>jasons pov hello blackrose say little tiny imp...</td>\n",
              "      <td>jason pov hello blackrose little tiny imp dwar...</td>\n",
              "    </tr>\n",
              "    <tr>\n",
              "      <th>996</th>\n",
              "      <td>40867</td>\n",
              "      <td>xx Maggie Who loves 'Saved by the Bell'? I do!...</td>\n",
              "      <td>a95b9f5d-aae7-4361-92d8-d68f1c2893ca</td>\n",
              "      <td>maggie love save bell yes really short prologu...</td>\n",
              "      <td>maggie love save bell yes short prologue try p...</td>\n",
              "    </tr>\n",
              "    <tr>\n",
              "      <th>997</th>\n",
              "      <td>46588</td>\n",
              "      <td>.I sit down in the shower letting the warm wat...</td>\n",
              "      <td>78ac0a0f-0caf-4f6d-b436-881a8247323d</td>\n",
              "      <td>sit shower let warm water wash body hell like ...</td>\n",
              "      <td>sit shower let warm water wash body hell like ...</td>\n",
              "    </tr>\n",
              "  </tbody>\n",
              "</table>\n",
              "<p>998 rows × 5 columns</p>\n",
              "</div>"
            ],
            "text/plain": [
              "     DocID                                            DocText  \\\n",
              "0    90041  I hear it all the time boo! Too bad I ain't go...   \n",
              "1    48027  the dirt after the rain. soaking the hot, parc...   \n",
              "2    44081  The night before the wedding. A light tear tri...   \n",
              "3    54461  I caught up with Lisa quickly and grabbed her,...   \n",
              "4    37461  And, he said as though he had not been interru...   \n",
              "..     ...                                                ...   \n",
              "993  42620  Uhmm... a day or two. I told them, my mom had ...   \n",
              "994  62987  Chapter 10The harbor was full of thousands of ...   \n",
              "995  85335  Jason's POV\"Hello.I'm Blackrose.\" Said the lit...   \n",
              "996  40867  xx Maggie Who loves 'Saved by the Bell'? I do!...   \n",
              "997  46588  .I sit down in the shower letting the warm wat...   \n",
              "\n",
              "                                       ID  \\\n",
              "0    719f7906-f626-45f7-a0cf-f51c5f946e7d   \n",
              "1    49ec299f-8951-4b96-bc73-b24149d8c89c   \n",
              "2    df4ba250-71f8-4bf9-bbdb-205d6c01f6ff   \n",
              "3    28317d65-dca4-4966-8b48-2e762e3e25bf   \n",
              "4    b6874c4b-ef5e-46af-836e-a7285a675397   \n",
              "..                                    ...   \n",
              "993  0170e266-8320-4629-a5fc-f373a767f0dd   \n",
              "994  67c509f5-e18d-41ad-b40d-9e24a61b2c44   \n",
              "995  28fa35af-193c-4539-84cc-699b00a284ac   \n",
              "996  a95b9f5d-aae7-4361-92d8-d68f1c2893ca   \n",
              "997  78ac0a0f-0caf-4f6d-b436-881a8247323d   \n",
              "\n",
              "                                         DocText_Clean  \\\n",
              "0    hear time boo bad get patience anyone elses pr...   \n",
              "1    dirt rain soak hot parch earth curl bed warm f...   \n",
              "2    night wed light tear trickle beautiful bold br...   \n",
              "3    catch lisa quickly grab throw shoulder thrash ...   \n",
              "4    say though interrupt become friends dumbledore...   \n",
              "..                                                 ...   \n",
              "993  uhmm day two tell mom make buy food honestly k...   \n",
              "994  chapter harbor full thousands people everyone ...   \n",
              "995  jasons pov hello blackrose say little tiny imp...   \n",
              "996  maggie love save bell yes really short prologu...   \n",
              "997  sit shower let warm water wash body hell like ...   \n",
              "\n",
              "                                       DocText_Cleaner  \n",
              "0    hear time boo bad patience else problem laugh ...  \n",
              "1    dirt rain soak hot parch earth curl bed warm f...  \n",
              "2    night would light tear trickle beautiful bold ...  \n",
              "3    catch lisa quickly grab throw shoulder thrash ...  \n",
              "4    interrupt friend dumbledore good guy thank tha...  \n",
              "..                                                 ...  \n",
              "993  uhmm day tell mom buy food honestly know hungr...  \n",
              "994  chapter harbor thousand people struggle push h...  \n",
              "995  jason pov hello blackrose little tiny imp dwar...  \n",
              "996  maggie love save bell yes short prologue try p...  \n",
              "997  sit shower let warm water wash body hell like ...  \n",
              "\n",
              "[998 rows x 5 columns]"
            ]
          },
          "metadata": {
            "tags": []
          },
          "execution_count": 21
        }
      ]
    },
    {
      "cell_type": "markdown",
      "metadata": {
        "id": "qhCfFjZtsKyB"
      },
      "source": [
        "## Building the processed corpus for training"
      ]
    },
    {
      "cell_type": "code",
      "metadata": {
        "id": "plmEfoKwFQfM"
      },
      "source": [
        "corpus = [row.split() for row in text]\n"
      ],
      "execution_count": null,
      "outputs": []
    },
    {
      "cell_type": "markdown",
      "metadata": {
        "id": "GX9OuVBnp_wJ"
      },
      "source": [
        "# Baseline Models"
      ]
    },
    {
      "cell_type": "markdown",
      "metadata": {
        "id": "ebWBZZlwX6v-"
      },
      "source": [
        "#Pretrained Word Embeddings\n",
        "\n",
        "---\n",
        "\n",
        "\n",
        "#### Due to resourcing I apply transfer learning. I use and test the world-class pretrained word embeddings and apply each of these to our vocab. Word2Vec, Glove, Fasttext."
      ]
    },
    {
      "cell_type": "code",
      "metadata": {
        "id": "t1sCvPq6zIU6"
      },
      "source": [
        "#Method to understand the overlap between our doc vocabulary and word embeddings\n",
        "def check_matches(vocab, embeddings_index):\n",
        "    known_words = {}\n",
        "    unknown_words = {}\n",
        "    nb_known_words = 0\n",
        "    nb_unknown_words = 0\n",
        "    for word in vocab.keys():\n",
        "        try:\n",
        "            known_words[word] = embeddings_index[word]\n",
        "            nb_known_words += vocab[word]\n",
        "        except:\n",
        "            unknown_words[word] = vocab[word]\n",
        "            nb_unknown_words += vocab[word]\n",
        "            pass\n",
        "\n",
        "    print('Found embeddings for {:.3%} of vocab'.format(len(known_words) / len(vocab)))\n",
        "    print('Found embeddings for  {:.3%} of all text'.format(nb_known_words / (nb_known_words + nb_unknown_words)))\n",
        "    unknown_words = sorted(unknown_words.items(), key=operator.itemgetter(1))[::-1]\n",
        "\n",
        "    return unknown_words"
      ],
      "execution_count": null,
      "outputs": []
    },
    {
      "cell_type": "markdown",
      "metadata": {
        "id": "SZrDjzdSo3eO"
      },
      "source": [
        "## Setting up our embeddings (Word2Vec, GloVE, FastText)"
      ]
    },
    {
      "cell_type": "code",
      "metadata": {
        "id": "uAIGlcMYDN25"
      },
      "source": [
        "#initial glove conversions\n",
        "#GLOVE_EMBEDDINGS = \"/content/drive/MyDrive/wattpad_test/root/input/glove2vec.txt\"\n",
        "#glove_word2vec = get_tmpfile(\"/content/drive/MyDrive/wattpad_test/root/input/glove2vec.txt\")\n",
        "#glove2word2vec(GLOVE_EMBEDDINGS, glove_word2vec)"
      ],
      "execution_count": null,
      "outputs": []
    },
    {
      "cell_type": "code",
      "metadata": {
        "colab": {
          "base_uri": "https://localhost:8080/"
        },
        "id": "NOsmWVBaJbnP",
        "outputId": "c1022a31-8bf8-4c23-db68-edb267767501"
      },
      "source": [
        "%%time\n",
        "#Load up word2vec embeddings\n",
        "word2vec_embeddings = KeyedVectors.load_word2vec_format(WORD2VEC_EMBEDDINGS, binary=True)"
      ],
      "execution_count": null,
      "outputs": [
        {
          "output_type": "stream",
          "text": [
            "CPU times: user 1min 28s, sys: 2.79 s, total: 1min 31s\n",
            "Wall time: 1min 34s\n"
          ],
          "name": "stdout"
        }
      ]
    },
    {
      "cell_type": "code",
      "metadata": {
        "colab": {
          "base_uri": "https://localhost:8080/"
        },
        "id": "Qq4vUnJ2MKJf",
        "outputId": "716fd2d1-beec-4683-9c74-675d19353139"
      },
      "source": [
        "%%time\n",
        "#Load up glove embeddings\n",
        "glove_embeddings = KeyedVectors.load_word2vec_format(GLOVE_EMBEDDINGS, binary=False)"
      ],
      "execution_count": null,
      "outputs": [
        {
          "output_type": "stream",
          "text": [
            "CPU times: user 1min 34s, sys: 1.04 s, total: 1min 35s\n",
            "Wall time: 1min 37s\n"
          ],
          "name": "stdout"
        }
      ]
    },
    {
      "cell_type": "markdown",
      "metadata": {
        "id": "vGMa2mE_oo3s"
      },
      "source": [
        "## Model Training - Word2Vec"
      ]
    },
    {
      "cell_type": "markdown",
      "metadata": {
        "id": "uKXAexadHaEv"
      },
      "source": [
        "Begin training model on corpus adding pretrained word2vec embeddings. These are trained on Google News articles."
      ]
    },
    {
      "cell_type": "code",
      "metadata": {
        "colab": {
          "base_uri": "https://localhost:8080/"
        },
        "id": "NVfKuAw7siMQ",
        "outputId": "395fe782-7fe6-46ed-dfd0-cdeb2d9020ce"
      },
      "source": [
        "#Checking coverage to see how overlap of embeddings with our vocab\n",
        "#evaluate word2vec embeddings coverage\n",
        "word2vec_coverage = check_matches(vocab, word2vec_embeddings)\n"
      ],
      "execution_count": null,
      "outputs": [
        {
          "output_type": "stream",
          "text": [
            "Found embeddings for 50.584% of vocab\n",
            "Found embeddings for  78.747% of all text\n"
          ],
          "name": "stdout"
        }
      ]
    },
    {
      "cell_type": "code",
      "metadata": {
        "id": "T4ki02-pDUc9"
      },
      "source": [
        "\n",
        "# init callback class to review our training.\n",
        "class callback(CallbackAny2Vec):\n",
        "    \"\"\"\n",
        "    Callback to print loss after each epoch\n",
        "    \"\"\"\n",
        "    def __init__(self):\n",
        "        self.epoch = 0\n",
        "\n",
        "    def on_epoch_end(self, model):\n",
        "        loss = model.get_latest_training_loss()\n",
        "        if self.epoch == 0:\n",
        "            print('Loss after epoch {}: {}'.format(self.epoch, loss))\n",
        "        else:\n",
        "            print('Loss after epoch {}: {}'.format(self.epoch, loss- self.loss_previous_step))\n",
        "        self.epoch += 1\n",
        "        self.loss_previous_step = loss"
      ],
      "execution_count": null,
      "outputs": []
    },
    {
      "cell_type": "code",
      "metadata": {
        "id": "09x0LZc7__0-"
      },
      "source": [
        "cores = multiprocessing.cpu_count() # Count the number of cores in a computer"
      ],
      "execution_count": null,
      "outputs": []
    },
    {
      "cell_type": "code",
      "metadata": {
        "id": "1T-Vp6yOYH4h"
      },
      "source": [
        "# Training our corpus with Word2Vec Pretrained Model\n",
        "#Instantiate the model for training\n",
        "word2vec_model = Word2Vec(min_count=2,\n",
        "                     window=5,\n",
        "                     negative=5,\n",
        "                     size=300, \n",
        "                     workers=cores-1\n",
        "                     )"
      ],
      "execution_count": null,
      "outputs": []
    },
    {
      "cell_type": "code",
      "metadata": {
        "id": "3Kh74EB8oidP"
      },
      "source": [
        "word2vec_model.build_vocab(corpus)"
      ],
      "execution_count": null,
      "outputs": []
    },
    {
      "cell_type": "code",
      "metadata": {
        "colab": {
          "base_uri": "https://localhost:8080/"
        },
        "id": "9hzfZLnxPrNr",
        "outputId": "bed9db26-c1b8-45c2-b9a7-acfd4490869d"
      },
      "source": [
        "word2vec_model.wv.vectors.shape\n",
        " "
      ],
      "execution_count": null,
      "outputs": [
        {
          "output_type": "execute_result",
          "data": {
            "text/plain": [
              "(18199, 300)"
            ]
          },
          "metadata": {
            "tags": []
          },
          "execution_count": 32
        }
      ]
    },
    {
      "cell_type": "code",
      "metadata": {
        "colab": {
          "base_uri": "https://localhost:8080/"
        },
        "id": "IHibXsfCj-k4",
        "outputId": "87a06208-044f-4419-9e6f-47e383ad8612"
      },
      "source": [
        "%%time\n",
        "#Add word2vec embeddings for words that overlap in our vocab\n",
        "word2vec_model.intersect_word2vec_format(WORD2VEC_EMBEDDINGS, lockf=1.0, binary=True)\n",
        "word2vec_model.train(corpus, \n",
        "                     total_examples=word2vec_model.corpus_count,\n",
        "                     epochs = 8, \n",
        "                     report_delay=1,\n",
        "                     compute_loss = True, # set compute_loss = True\n",
        "                     callbacks=[callback()])"
      ],
      "execution_count": null,
      "outputs": [
        {
          "output_type": "stream",
          "text": [
            "Loss after epoch 0: 1196835.25\n",
            "Loss after epoch 1: 992025.5\n",
            "Loss after epoch 2: 918252.25\n",
            "Loss after epoch 3: 877033.5\n",
            "Loss after epoch 4: 780122.5\n",
            "Loss after epoch 5: 735361.0\n",
            "Loss after epoch 6: 720342.5\n",
            "Loss after epoch 7: 710775.0\n",
            "CPU times: user 1min 22s, sys: 782 ms, total: 1min 23s\n",
            "Wall time: 1min 23s\n"
          ],
          "name": "stdout"
        }
      ]
    },
    {
      "cell_type": "code",
      "metadata": {
        "colab": {
          "base_uri": "https://localhost:8080/"
        },
        "id": "YrMsFTaGk_71",
        "outputId": "c7cf6dae-dbf0-4119-8257-8d58c1c68cc8"
      },
      "source": [
        "#test similiarity of standard word, we can see that semantic similarities make sense.\n",
        "word2vec_model.wv.most_similar(positive=[\"brother\"])"
      ],
      "execution_count": null,
      "outputs": [
        {
          "output_type": "execute_result",
          "data": {
            "text/plain": [
              "[('sister', 0.6748436689376831),\n",
              " ('nephew', 0.656744122505188),\n",
              " ('odd', 0.6496289968490601),\n",
              " ('brothers', 0.6443120241165161),\n",
              " ('father', 0.6363226175308228),\n",
              " ('uncle', 0.6082543730735779),\n",
              " ('cousin', 0.6061365008354187),\n",
              " ('dean', 0.5971981287002563),\n",
              " ('siblings', 0.5868384838104248),\n",
              " ('stepfather', 0.5838647484779358)]"
            ]
          },
          "metadata": {
            "tags": []
          },
          "execution_count": 34
        }
      ]
    },
    {
      "cell_type": "code",
      "metadata": {
        "id": "837odCwl_vEz"
      },
      "source": [
        "#Save the model for later use, disable model callbacks, required due to a bug as result of gensim\n",
        "word2vec_model.callbacks = ()\n",
        "word2vec_model.save(\"/content/drive/MyDrive/wattpad_test/root/models/word2vec/word2vec.model\")\n"
      ],
      "execution_count": null,
      "outputs": []
    },
    {
      "cell_type": "markdown",
      "metadata": {
        "id": "ihAnKsz_pSOj"
      },
      "source": [
        "## Model Training - GLOVE"
      ]
    },
    {
      "cell_type": "markdown",
      "metadata": {
        "id": "H_eMjUW0J2b0"
      },
      "source": [
        "I will use the same process, but with Glove embeddings instead. These are based off Common Crawl. I decided to see its worth exploring, because the coverage on the glove embeddings is higher than the pretrained word2vec embeddings."
      ]
    },
    {
      "cell_type": "code",
      "metadata": {
        "colab": {
          "base_uri": "https://localhost:8080/"
        },
        "id": "j6xtqGK3Wn0Z",
        "outputId": "2aa86c53-520f-4fff-c127-f01e96356211"
      },
      "source": [
        "glove_coverage = check_matches(vocab, glove_embeddings)"
      ],
      "execution_count": null,
      "outputs": [
        {
          "output_type": "stream",
          "text": [
            "Found embeddings for 55.187% of vocab\n",
            "Found embeddings for  82.463% of all text\n"
          ],
          "name": "stdout"
        }
      ]
    },
    {
      "cell_type": "code",
      "metadata": {
        "id": "Oi5W47AkIix0"
      },
      "source": [
        "# Training our corpus with Word2Vec Pretrained Model\n",
        "#Instantiate the model for training\n",
        "glove_model = Word2Vec(min_count=2,\n",
        "                     window=5,\n",
        "                     negative=5,\n",
        "                     size=300, \n",
        "                     workers=cores-1\n",
        "                     )"
      ],
      "execution_count": null,
      "outputs": []
    },
    {
      "cell_type": "code",
      "metadata": {
        "id": "clExMAu9Iu4D"
      },
      "source": [
        "glove_model.build_vocab(corpus)"
      ],
      "execution_count": null,
      "outputs": []
    },
    {
      "cell_type": "code",
      "metadata": {
        "colab": {
          "base_uri": "https://localhost:8080/"
        },
        "id": "2-376lZvIu4E",
        "outputId": "28625f8a-5e29-4d1c-efb3-6b73c3b641ea"
      },
      "source": [
        "glove_model.wv.vectors.shape\n",
        " "
      ],
      "execution_count": null,
      "outputs": [
        {
          "output_type": "execute_result",
          "data": {
            "text/plain": [
              "(18199, 300)"
            ]
          },
          "metadata": {
            "tags": []
          },
          "execution_count": 39
        }
      ]
    },
    {
      "cell_type": "code",
      "metadata": {
        "colab": {
          "base_uri": "https://localhost:8080/"
        },
        "id": "AKyTgRYvI8Qu",
        "outputId": "aea88ad0-4baf-4b8d-cb1b-b7bebf1c0898"
      },
      "source": [
        "%%time\n",
        "glove_model.intersect_word2vec_format(GLOVE_EMBEDDINGS, lockf=1.0, binary=False)\n",
        "glove_model.train(corpus, \n",
        "                     total_examples=glove_model.corpus_count,\n",
        "                     epochs = 5, \n",
        "                     report_delay=1,\n",
        "                     compute_loss = True, # set compute_loss = True\n",
        "                     callbacks=[callback()])"
      ],
      "execution_count": null,
      "outputs": [
        {
          "output_type": "stream",
          "text": [
            "Loss after epoch 0: 1138595.125\n",
            "Loss after epoch 1: 958506.125\n",
            "Loss after epoch 2: 880735.25\n",
            "Loss after epoch 3: 845243.25\n",
            "Loss after epoch 4: 778129.25\n",
            "CPU times: user 1min 27s, sys: 453 ms, total: 1min 28s\n",
            "Wall time: 1min 28s\n"
          ],
          "name": "stdout"
        }
      ]
    },
    {
      "cell_type": "code",
      "metadata": {
        "colab": {
          "base_uri": "https://localhost:8080/"
        },
        "id": "_NOfL1dcKBEo",
        "outputId": "d356e6d5-1f55-49f8-86af-ac3cc2372484"
      },
      "source": [
        "#test similiarity of standard word, we can see that semantic similarities make sense.\n",
        "print('Glove: similiarity test: \\n', glove_model.wv.most_similar(positive=[\"happy\"]))\n",
        "print('Word2Vec: similiarity test \\n',word2vec_model.wv.most_similar(positive=[\"happy\"]))"
      ],
      "execution_count": null,
      "outputs": [
        {
          "output_type": "stream",
          "text": [
            "Glove: similiarity test: \n",
            " [('glad', 0.7198635935783386), ('wish', 0.6502501964569092), ('sad', 0.6355036497116089), ('wonderful', 0.6221669316291809), ('well', 0.6024701595306396), ('proud', 0.6011662483215332), ('know', 0.5920550227165222), ('obviously', 0.5870867967605591), ('hope', 0.5853500366210938), ('better', 0.5833157300949097)]\n",
            "Word2Vec: similiarity test \n",
            " [('glad', 0.7298558950424194), ('thankful', 0.6566928625106812), ('proud', 0.6545039415359497), ('sad', 0.6405991911888123), ('wonderful', 0.6126113533973694), ('wish', 0.6124885082244873), ('happier', 0.5944545269012451), ('grateful', 0.5809042453765869), ('better', 0.5791413187980652), ('confident', 0.5756374597549438)]\n"
          ],
          "name": "stdout"
        }
      ]
    },
    {
      "cell_type": "code",
      "metadata": {
        "id": "RU8dh6b8AZSX"
      },
      "source": [
        "#Save the model for later use, disable model callbacks, required due to a bug as result of gensim\n",
        "glove_model.callbacks = ()\n",
        "\n",
        "glove_model.save(\"/content/drive/MyDrive/wattpad_test/root/models/glove/glove.model\")\n"
      ],
      "execution_count": null,
      "outputs": []
    },
    {
      "cell_type": "markdown",
      "metadata": {
        "id": "PaD4obopLOPC"
      },
      "source": [
        "## Model Training - FastText"
      ]
    },
    {
      "cell_type": "code",
      "metadata": {
        "id": "SkGHHRtzUEk0"
      },
      "source": [
        "fast_embeddings = KeyedVectors.load_word2vec_format(FAST_EMBEDDINGS, binary=False)\n"
      ],
      "execution_count": null,
      "outputs": []
    },
    {
      "cell_type": "code",
      "metadata": {
        "colab": {
          "base_uri": "https://localhost:8080/"
        },
        "id": "MH6CHzbqhcDx",
        "outputId": "673feb39-31ab-40c9-e8a2-eabfdc4af466"
      },
      "source": [
        "%%time\n",
        "fast_coverage = check_matches(vocab, fast_embeddings)"
      ],
      "execution_count": null,
      "outputs": [
        {
          "output_type": "stream",
          "text": [
            "Found embeddings for 64.545% of vocab\n",
            "Found embeddings for  88.891% of all text\n",
            "CPU times: user 119 ms, sys: 994 µs, total: 120 ms\n",
            "Wall time: 122 ms\n"
          ],
          "name": "stdout"
        }
      ]
    },
    {
      "cell_type": "code",
      "metadata": {
        "id": "jS4_x6S_g7sr"
      },
      "source": [
        "\n",
        "fast_model = Word2Vec(min_count=2,\n",
        "                     window=5,\n",
        "                     negative=5,\n",
        "                     size=300, \n",
        "                     workers=cores-1\n",
        "                     )"
      ],
      "execution_count": null,
      "outputs": []
    },
    {
      "cell_type": "code",
      "metadata": {
        "id": "hf_25oy_i9Eq"
      },
      "source": [
        "fast_model.build_vocab(corpus)"
      ],
      "execution_count": null,
      "outputs": []
    },
    {
      "cell_type": "code",
      "metadata": {
        "id": "4FNEKd9og8TA",
        "colab": {
          "base_uri": "https://localhost:8080/"
        },
        "outputId": "6a7be5ae-e78b-44c2-fb29-68a1462c6a47"
      },
      "source": [
        "%%time\n",
        "fast_model.intersect_word2vec_format(FAST_EMBEDDINGS, lockf=1.0, binary=False)\n",
        "fast_model.train(corpus, \n",
        "                     total_examples=fast_model.corpus_count,\n",
        "                     epochs = 5, \n",
        "                     report_delay=1,\n",
        "                     compute_loss = True, # set compute_loss = True\n",
        "                     callbacks=[callback()])"
      ],
      "execution_count": null,
      "outputs": [
        {
          "output_type": "stream",
          "text": [
            "Loss after epoch 0: 1138986.5\n",
            "Loss after epoch 1: 959151.5\n",
            "Loss after epoch 2: 890129.0\n",
            "Loss after epoch 3: 857594.25\n",
            "Loss after epoch 4: 781818.25\n",
            "CPU times: user 6min 42s, sys: 1.78 s, total: 6min 44s\n",
            "Wall time: 6min 44s\n"
          ],
          "name": "stdout"
        }
      ]
    },
    {
      "cell_type": "code",
      "metadata": {
        "id": "8r_v4L-lhLRl",
        "colab": {
          "base_uri": "https://localhost:8080/"
        },
        "outputId": "fe835b74-9926-4435-f8d9-560cf2748278"
      },
      "source": [
        "fast_model.wv.most_similar(positive=[\"car\"])"
      ],
      "execution_count": null,
      "outputs": [
        {
          "output_type": "execute_result",
          "data": {
            "text/plain": [
              "[('drive', 0.7881123423576355),\n",
              " ('driveway', 0.6953915357589722),\n",
              " ('truck', 0.6896342635154724),\n",
              " ('park', 0.6881539225578308),\n",
              " ('driver', 0.6609848737716675),\n",
              " ('road', 0.6435428261756897),\n",
              " ('house', 0.6325049996376038),\n",
              " ('vehicle', 0.6306074857711792),\n",
              " ('ride', 0.6245632171630859),\n",
              " ('cars', 0.6129789352416992)]"
            ]
          },
          "metadata": {
            "tags": []
          },
          "execution_count": 48
        }
      ]
    },
    {
      "cell_type": "code",
      "metadata": {
        "id": "jaJpffEhyt1a"
      },
      "source": [
        "#test similiarity of standard word, we can see that semantic similarities make sense.\n",
        "fast_model.callbacks = ()\n",
        "fast_model.save(\"/content/drive/MyDrive/wattpad_test/root/models/fasttext/fast.model\")"
      ],
      "execution_count": null,
      "outputs": []
    },
    {
      "cell_type": "markdown",
      "metadata": {
        "id": "TKGWsQ23thfu"
      },
      "source": [
        "# TF-IDF Vectorization\n",
        "Here we will use a TF-IDF weighting strategy with our Word Embeddings to obtain an overall document embedding.\n",
        "Word Embeddings assume equal weighting across words which really doesn't necessarily apply to groups of words, sentences, documents. An alternative that could be used is average embedding for span of the description. (total sum of all vectors divided by the total number of words)\n",
        "\n",
        "Kenter et al. \n",
        "https://www.aclweb.org/anthology/P16-1089.pdf"
      ]
    },
    {
      "cell_type": "code",
      "metadata": {
        "id": "l9kXCFIPGo0C"
      },
      "source": [
        "#Creating the term frequency model\n",
        "tfidf = TfidfVectorizer(analyzer='word', ngram_range=(1, 3), min_df = 5, stop_words='english')\n",
        "tfidf.fit(text_df['DocText_Cleaner'])\n",
        "\n",
        "# Getting the words from the TF-IDF model\n",
        "tfidf_list = dict(zip(tfidf.get_feature_names(), list(tfidf.idf_)))\n",
        "tfidf_feature = tfidf.get_feature_names() # tfidf words/col-names\n"
      ],
      "execution_count": null,
      "outputs": []
    },
    {
      "cell_type": "code",
      "metadata": {
        "id": "Ekf-gyfRx80D"
      },
      "source": [
        "# Building TF-IDF based on embeddings \n",
        "\n",
        "def generate_vectors(corpus, model):\n",
        "# Storing the TFIDF Word2Vec embeddings\n",
        "  tfidf_vectors = []; \n",
        "  line = 0;\n",
        "\n",
        "  for doc_text in corpus: \n",
        "    # Word vectors are of zero length (Used 300 dimensions)\n",
        "      text_vec = np.zeros(300) \n",
        "\n",
        "      # num of words with a valid vector in the text\n",
        "      weight_sum=0; \n",
        "\n",
        "      for word in doc_text: \n",
        "          if word in model.wv.vocab and word in tfidf_feature:\n",
        "    \n",
        "              vec = model.wv[word]\n",
        "              tf_idf = tfidf_list[word] * (doc_text.count(word) / len(doc_text))\n",
        "              text_vec += (vec * tf_idf)\n",
        "              weight_sum += tf_idf\n",
        "    \n",
        "      if weight_sum != 0:\n",
        "          text_vec /= weight_sum\n",
        "      tfidf_vectors.append(text_vec)\n",
        "      line += 1\n",
        "\n",
        "  return tfidf_vectors"
      ],
      "execution_count": null,
      "outputs": []
    },
    {
      "cell_type": "code",
      "metadata": {
        "id": "OlnuG4AR0_fT"
      },
      "source": [
        "#Method to get top N similiar documents, \n",
        "\n",
        "def similiarity_query(df, DocID, input_vectors):\n",
        "    \n",
        "    # finding cosine similarity for the vectors\n",
        "    cosine_similarities = cosine_similarity(input_vectors,  input_vectors)\n",
        "    \n",
        "    docs = df[['DocID', 'DocText']]    \n",
        "    #Reverse mapping of the index\n",
        "    indices = pd.Series(df.index, index = df['DocID']).drop_duplicates()\n",
        "         \n",
        "    idx = indices[DocID]\n",
        "    \n",
        "    scores = list(enumerate(cosine_similarities[idx]))\n",
        "    scores = sorted(scores, key = lambda x: x[1], reverse = True)\n",
        "    scores = scores[0:6]\n",
        "    \n",
        "    doc_indices = [i[0] for i in scores]\n",
        "    recommend = docs.iloc[doc_indices]\n",
        "    doc_id = (docs['DocID']==DocID)\n",
        "    doc_item = docs[docs['DocID']==DocID]\n",
        "    print(scores)\n",
        "\n",
        "    return recommend\n"
      ],
      "execution_count": null,
      "outputs": []
    },
    {
      "cell_type": "markdown",
      "metadata": {
        "id": "IA4n-LwCXGaN"
      },
      "source": [
        "## Generating the Weighted Vectors"
      ]
    },
    {
      "cell_type": "code",
      "metadata": {
        "id": "L4Z7kPSGCIdi",
        "colab": {
          "base_uri": "https://localhost:8080/"
        },
        "outputId": "1db5988e-d342-45cd-c1d1-c413028b6620"
      },
      "source": [
        "%%time\n",
        "#tfidf using word2vec model\n",
        "tfidf_w2v_vectors = generate_vectors(corpus, word2vec_model)"
      ],
      "execution_count": null,
      "outputs": [
        {
          "output_type": "stream",
          "text": [
            "CPU times: user 6min 7s, sys: 3.07 s, total: 6min 10s\n",
            "Wall time: 6min 7s\n"
          ],
          "name": "stdout"
        }
      ]
    },
    {
      "cell_type": "code",
      "metadata": {
        "id": "p_vLwDdhNcKD",
        "colab": {
          "base_uri": "https://localhost:8080/"
        },
        "outputId": "d1f96740-58e8-4741-80e2-f1e344026850"
      },
      "source": [
        "%%time\n",
        "#tfidf using glove model\n",
        "tfidf_glove_vectors = generate_vectors(corpus, glove_model)"
      ],
      "execution_count": null,
      "outputs": [
        {
          "output_type": "stream",
          "text": [
            "CPU times: user 6min 7s, sys: 3.42 s, total: 6min 11s\n",
            "Wall time: 6min 7s\n"
          ],
          "name": "stdout"
        }
      ]
    },
    {
      "cell_type": "code",
      "metadata": {
        "id": "bETUBLbylDao",
        "colab": {
          "base_uri": "https://localhost:8080/"
        },
        "outputId": "f8a1d217-5cba-4787-c3e3-9ac171a73c5d"
      },
      "source": [
        "%%time\n",
        "#tfidf using glove model\n",
        "tfidf_fast_vectors = generate_vectors(corpus, fast_model)"
      ],
      "execution_count": null,
      "outputs": [
        {
          "output_type": "stream",
          "text": [
            "CPU times: user 6min 5s, sys: 2.75 s, total: 6min 8s\n",
            "Wall time: 6min 5s\n"
          ],
          "name": "stdout"
        }
      ]
    },
    {
      "cell_type": "markdown",
      "metadata": {
        "id": "wYP8tFHXGw48"
      },
      "source": [
        "# Testing the Model and Similiarity results"
      ]
    },
    {
      "cell_type": "code",
      "metadata": {
        "id": "8iubJFT_nqnp",
        "colab": {
          "base_uri": "https://localhost:8080/"
        },
        "outputId": "8a812864-bddf-40e6-f505-b05dcee6f634"
      },
      "source": [
        "word2vec_output = similiarity_query(text_df, 54461, tfidf_w2v_vectors)"
      ],
      "execution_count": null,
      "outputs": [
        {
          "output_type": "stream",
          "text": [
            "[(3, 1.0), (102, 0.9559888092956998), (551, 0.9472381567610402), (632, 0.9454229846007264), (258, 0.9449445232904443), (584, 0.9416076677067808)]\n"
          ],
          "name": "stdout"
        }
      ]
    },
    {
      "cell_type": "code",
      "metadata": {
        "id": "sVX-D3s9Po3K",
        "colab": {
          "base_uri": "https://localhost:8080/"
        },
        "outputId": "18dd1ba2-7cf4-4c98-fd19-671fd1207f94"
      },
      "source": [
        "glove_output = similiarity_query(text_df, 54461, tfidf_glove_vectors)"
      ],
      "execution_count": null,
      "outputs": [
        {
          "output_type": "stream",
          "text": [
            "[(3, 1.0000000000000002), (102, 0.9620258730149605), (551, 0.9517544992492468), (632, 0.9451795644728527), (258, 0.9447027978867921), (584, 0.9442718597854415)]\n"
          ],
          "name": "stdout"
        }
      ]
    },
    {
      "cell_type": "code",
      "metadata": {
        "id": "L-o68W4fmQLK",
        "colab": {
          "base_uri": "https://localhost:8080/"
        },
        "outputId": "b3999e00-08a9-4456-a693-c5b839370d79"
      },
      "source": [
        "fast_output = similiarity_query(text_df, 54461, tfidf_fast_vectors)"
      ],
      "execution_count": null,
      "outputs": [
        {
          "output_type": "stream",
          "text": [
            "[(3, 0.9999999999999996), (102, 0.9661098062422976), (632, 0.9592715989655782), (551, 0.9583605415586101), (584, 0.9582858249963002), (258, 0.9568938523646581)]\n"
          ],
          "name": "stdout"
        }
      ]
    },
    {
      "cell_type": "code",
      "metadata": {
        "id": "1v9AVyqyElHU"
      },
      "source": [
        "pd.set_option('display.max_columns', None)"
      ],
      "execution_count": null,
      "outputs": []
    },
    {
      "cell_type": "markdown",
      "metadata": {
        "id": "TZWNDbOSljmQ"
      },
      "source": [
        "# Evaluation\n",
        "\n",
        "\n",
        "Although these models are an unsupervised learning task, I use spearman coefficient on google test set to evaluate models effectiveness in semantic similiarity. This may not necessarily be best indicator given successful evaluation results depend on the specific use case."
      ]
    },
    {
      "cell_type": "code",
      "metadata": {
        "id": "KoOS65F0AJLh"
      },
      "source": [
        "#Evaluation of wordpairs"
      ],
      "execution_count": null,
      "outputs": []
    },
    {
      "cell_type": "code",
      "metadata": {
        "id": "psU4V-ejjtwI",
        "colab": {
          "base_uri": "https://localhost:8080/"
        },
        "outputId": "dbc5facb-dd59-41d9-8d33-43e9be0ee666"
      },
      "source": [
        "print('Word2vec model: ', word2vec_model.wv.evaluate_word_pairs(datapath(\"wordsim353.tsv\")))\n",
        "print('Glove model: ', glove_model.wv.evaluate_word_pairs(datapath(\"wordsim353.tsv\")))\n",
        "print('Fast model: ', fast_model.wv.evaluate_word_pairs(datapath(\"wordsim353.tsv\")))"
      ],
      "execution_count": null,
      "outputs": [
        {
          "output_type": "stream",
          "text": [
            "Word2vec model:  ((0.6303393065306551, 2.558761736650827e-28), SpearmanrResult(correlation=0.6523540703811658, pvalue=7.622006254689518e-31), 31.1614730878187)\n",
            "Glove model:  ((0.6865899641258696, 3.2214578447819863e-35), SpearmanrResult(correlation=0.6894521597856433, pvalue=1.3028444500266424e-35), 31.1614730878187)\n",
            "Fast model:  ((0.7211596298059225, 2.7078224312627366e-40), SpearmanrResult(correlation=0.7481017318057481, pvalue=8.166714588946754e-45), 31.1614730878187)\n"
          ],
          "name": "stdout"
        }
      ]
    },
    {
      "cell_type": "code",
      "metadata": {
        "id": "H4Lqqj6wk7BE",
        "colab": {
          "base_uri": "https://localhost:8080/"
        },
        "outputId": "a76380cf-be00-479f-f8ac-3dd972b5c702"
      },
      "source": [
        "glove_model.wv.evaluate_word_pairs(datapath(\"wordsim353.tsv\"))\n"
      ],
      "execution_count": null,
      "outputs": [
        {
          "output_type": "execute_result",
          "data": {
            "text/plain": [
              "((0.6865899641258696, 3.2214578447819863e-35),\n",
              " SpearmanrResult(correlation=0.6894521597856433, pvalue=1.3028444500266424e-35),\n",
              " 31.1614730878187)"
            ]
          },
          "metadata": {
            "tags": []
          },
          "execution_count": 62
        }
      ]
    },
    {
      "cell_type": "code",
      "metadata": {
        "id": "5LYtQWnjk8EH",
        "colab": {
          "base_uri": "https://localhost:8080/"
        },
        "outputId": "41e67ca3-a0fe-4b24-9614-be1cb2d1fded"
      },
      "source": [
        "fast_model.wv.evaluate_word_pairs(datapath(\"wordsim353.tsv\"))\n"
      ],
      "execution_count": null,
      "outputs": [
        {
          "output_type": "execute_result",
          "data": {
            "text/plain": [
              "((0.7211596298059225, 2.7078224312627366e-40),\n",
              " SpearmanrResult(correlation=0.7481017318057481, pvalue=8.166714588946754e-45),\n",
              " 31.1614730878187)"
            ]
          },
          "metadata": {
            "tags": []
          },
          "execution_count": 63
        }
      ]
    },
    {
      "cell_type": "markdown",
      "metadata": {
        "id": "FwDjTA7oHGFD"
      },
      "source": [
        "# Review of Document Similiarities"
      ]
    },
    {
      "cell_type": "code",
      "metadata": {
        "id": "jiYfKgRwELmC",
        "colab": {
          "base_uri": "https://localhost:8080/",
          "height": 796
        },
        "outputId": "87aa7047-1191-4a6d-845d-d06a5714194c"
      },
      "source": [
        "word2vec_output"
      ],
      "execution_count": null,
      "outputs": [
        {
          "output_type": "execute_result",
          "data": {
            "text/html": [
              "<div>\n",
              "<style scoped>\n",
              "    .dataframe tbody tr th:only-of-type {\n",
              "        vertical-align: middle;\n",
              "    }\n",
              "\n",
              "    .dataframe tbody tr th {\n",
              "        vertical-align: top;\n",
              "    }\n",
              "\n",
              "    .dataframe thead th {\n",
              "        text-align: right;\n",
              "    }\n",
              "</style>\n",
              "<table border=\"1\" class=\"dataframe\">\n",
              "  <thead>\n",
              "    <tr style=\"text-align: right;\">\n",
              "      <th></th>\n",
              "      <th>DocID</th>\n",
              "      <th>DocText</th>\n",
              "    </tr>\n",
              "  </thead>\n",
              "  <tbody>\n",
              "    <tr>\n",
              "      <th>3</th>\n",
              "      <td>54461</td>\n",
              "      <td>I caught up with Lisa quickly and grabbed her, throwing her over my shoulder while she thrashed and screamed, laughing her ass off. Hannah was taunting me getting teasingly close so I snapped my hand out and clamped it around her wrist, making her squeal. I carried Lisa and dragged Hannah into the water and then threw Lisa in, laughing as she coughed and spluttered, wiping water out of her face. She grinned at me and grabbed my hand pulling me into the water too and before I knew what was happening the other two girls jumped on me too. I heard my mom shout back, still laughing. “You girls knew this would happen, you deal with the consequences!”  I burst out laughing. Well I guess that’s what I get for falling asleep in front of three Peters girls, I should have known better! “You’d better run!” I shouted, streaking after one of them at random. It turned out to be Lisa so I smiled and pushed myself after her, making her scream at my mom for help, “Mom! Make him leave me alone!”  The...</td>\n",
              "    </tr>\n",
              "    <tr>\n",
              "      <th>102</th>\n",
              "      <td>59484</td>\n",
              "      <td>I'm going to teach you some self defense. So get you ass ready right now so we can leave. I laughed and pulled on some shorts and a tank top. When we finally laughed I looked up at him. He actually wasn't that bad looking. He had dark hair and dark eyes. He was very handsome and strong to. I ruffled my hair again looking in the mirror. My blond hair was something else. I didn't have to do much in order to control it. But what can I do, I was gorgeous. \"Where shall we go to eat?\" I ignored him and he drove off. \"So tell me about yourself,\" Dimitri said as I took a gulp of water down. \"I'm hungry.\" I cried. ~~~~~~~~~~~~~~~~~~~~~~~~~~~~~~~~~~~~~~~~~~~~~~~~~~~~~~~~~~~~~~~~~~~~~~~~~~~~~~~~ twenty Minutes later \"Kassidy turn the light off.\" I pulled the covers over my head only to have them pulled away from. I opened my eyes in surprised and saw Dimitri. I sighed and stood up letting him get a good look. I knew I was in my bra and thong but it wasn't my fault he was so fucking evil to pu...</td>\n",
              "    </tr>\n",
              "    <tr>\n",
              "      <th>551</th>\n",
              "      <td>51214</td>\n",
              "      <td>Well I know alot about you I say back Because uh.. I love you guys I say shyly. Aww don't be shy love I think your pretty he says winking at me.  I wake up and I'm still wrapped in his arms, warm and safe.  She went to get the casting stuff and I'm sitting her staring at the wall. The door creeks and I shoot up and roll off the bed and hide behind it. I see a dust pan and grab it. The person walks in and I charge throwing the dust pan at the person and hitting them right in the face.  I keep throwing stuff. Ow! Quinn stop! It's me Zayn! He yells. Zayn? I say questioning him. Yes, Zayn he says. I stop throwing stuff and fall to the floor and start crying.  Here let me get it he says. He leans in and wipes it off. He keeps his hand on my cheek and stares into my eyes. He closes his eyes and leans in. OMG he's going to kiss me! I feel butterflies in my stomach I close my eyes and are lips met and my stomach does flips.  I finished the bar and it felt good.  Uh Lanae you have a little ...</td>\n",
              "    </tr>\n",
              "    <tr>\n",
              "      <th>632</th>\n",
              "      <td>82059</td>\n",
              "      <td>It's about Alize. ********* Joey's P. O.V  I laughed as Alize said a very stupid joke.  She smiled. I love that smile. She makes me feel all tingly inside. That's not weird right?  \"Joey?\" Alize says looking straight into my eyes.  My laughter died down.  \"Yeah?\" I say, still looking into hazel brown eyes.  \"I-\"  someone knocked on the door.  \"I'll go get it.\" She said.  I nod, upset that we were interrupted.  A few minutes later I hear Alize and someone else. A guy. I don't know who though.  Although he looks oddly familiar.  \"Joey this is Tyler.\" She said a little too happy.  For some odd reason i got really angry and protective.  \"Oh yeah I think i remember you.\" I say casually.   \"Wait Tyler how did you get my address?\" Alize asks, totally out of it.  \"Oh, that's right, when you have it to me you were totally hammered.\" Tyler says chuckling a little.  Alize blushes. \" oh right.\"  I smiled  \"Thank you, for understanding.\"  \"Don't mention it.\"  I sat down on a stool at our small ...</td>\n",
              "    </tr>\n",
              "    <tr>\n",
              "      <th>258</th>\n",
              "      <td>69856</td>\n",
              "      <td>Hey! Jake said, trying to pull my attention away from my phone, with his hand under my chin, i looked up into his swirly colored eyes. \"that mouth is too pretty for dirty words\" he leaned down winked and pecked my lips. My cheeks becoming rosy red. \" seriosly what's wrong?\" he continued, looking towards my phone. \"ooooh that's never good, come on, let's get you home.\" he said, pulling me towards his motorcycle, pulling me onto his back. \" hey! what are you doing, I have legs you know?\" I protested against him picking me up. \" We can go faster this way.\" he replied like I was a 5 year old who can't walk as fast. \" It's gonna take the same amount of time for me to walk with you anywa-\" \"Common\" he turned his head so I could see him, and jetted out his lip. \" FFINNEEE\" I dragged out not being able to say no to his puppy dog face. \"mmm you smell good\" I giggled, loving how close we were. \" That's what they all say.\" he breathed out, sounding tired \" Do you want me to hop off, you soun...</td>\n",
              "    </tr>\n",
              "    <tr>\n",
              "      <th>584</th>\n",
              "      <td>64338</td>\n",
              "      <td>Okay. she smiled and I set her down. She looked back up at me. \"Tom will you play dollys with me when you're done?\" she asked. \"Can I aske what you're doing here? I thought I made it clear over the phone that our fling was over.\" \"I know what you said but I wanted to tell you in person. I meant everything I said. I know that you don't want a relationship that's long distance but joules i'm serious. I can't lose you in my life Joules.\" \"Tom. I don't know what to say.\" she stuttered. \"Just say you'll be my friend. Say that you'll give me a chance.\" \"I will if you swear on your Fathers grave that you did not cheat on me.\" I know swearing on his grave is an awful thing to do. But I did not cheat on her. \"I swear.\" I spoke. \"Alright. We can see how this goes. Now would you like to come in?\" She asked. \"I'd love to.\" I smiled. ~~Michaels POV~~ As much as I was loving being grilled by Ryan nonstop about liking Joules I chose, instead to ditch him in California (not that he was upset. He w...</td>\n",
              "    </tr>\n",
              "  </tbody>\n",
              "</table>\n",
              "</div>"
            ],
            "text/plain": [
              "     DocID  \\\n",
              "3    54461   \n",
              "102  59484   \n",
              "551  51214   \n",
              "632  82059   \n",
              "258  69856   \n",
              "584  64338   \n",
              "\n",
              "                                                                                                                                                                                                                                                                                                                                                                                                                                                                                                                                                                                                                                                                                                                                                                                                                                                                                                                                                                                                                                     DocText  \n",
              "3    I caught up with Lisa quickly and grabbed her, throwing her over my shoulder while she thrashed and screamed, laughing her ass off. Hannah was taunting me getting teasingly close so I snapped my hand out and clamped it around her wrist, making her squeal. I carried Lisa and dragged Hannah into the water and then threw Lisa in, laughing as she coughed and spluttered, wiping water out of her face. She grinned at me and grabbed my hand pulling me into the water too and before I knew what was happening the other two girls jumped on me too. I heard my mom shout back, still laughing. “You girls knew this would happen, you deal with the consequences!”  I burst out laughing. Well I guess that’s what I get for falling asleep in front of three Peters girls, I should have known better! “You’d better run!” I shouted, streaking after one of them at random. It turned out to be Lisa so I smiled and pushed myself after her, making her scream at my mom for help, “Mom! Make him leave me alone!”  The...  \n",
              "102  I'm going to teach you some self defense. So get you ass ready right now so we can leave. I laughed and pulled on some shorts and a tank top. When we finally laughed I looked up at him. He actually wasn't that bad looking. He had dark hair and dark eyes. He was very handsome and strong to. I ruffled my hair again looking in the mirror. My blond hair was something else. I didn't have to do much in order to control it. But what can I do, I was gorgeous. \"Where shall we go to eat?\" I ignored him and he drove off. \"So tell me about yourself,\" Dimitri said as I took a gulp of water down. \"I'm hungry.\" I cried. ~~~~~~~~~~~~~~~~~~~~~~~~~~~~~~~~~~~~~~~~~~~~~~~~~~~~~~~~~~~~~~~~~~~~~~~~~~~~~~~~ twenty Minutes later \"Kassidy turn the light off.\" I pulled the covers over my head only to have them pulled away from. I opened my eyes in surprised and saw Dimitri. I sighed and stood up letting him get a good look. I knew I was in my bra and thong but it wasn't my fault he was so fucking evil to pu...  \n",
              "551  Well I know alot about you I say back Because uh.. I love you guys I say shyly. Aww don't be shy love I think your pretty he says winking at me.  I wake up and I'm still wrapped in his arms, warm and safe.  She went to get the casting stuff and I'm sitting her staring at the wall. The door creeks and I shoot up and roll off the bed and hide behind it. I see a dust pan and grab it. The person walks in and I charge throwing the dust pan at the person and hitting them right in the face.  I keep throwing stuff. Ow! Quinn stop! It's me Zayn! He yells. Zayn? I say questioning him. Yes, Zayn he says. I stop throwing stuff and fall to the floor and start crying.  Here let me get it he says. He leans in and wipes it off. He keeps his hand on my cheek and stares into my eyes. He closes his eyes and leans in. OMG he's going to kiss me! I feel butterflies in my stomach I close my eyes and are lips met and my stomach does flips.  I finished the bar and it felt good.  Uh Lanae you have a little ...  \n",
              "632  It's about Alize. ********* Joey's P. O.V  I laughed as Alize said a very stupid joke.  She smiled. I love that smile. She makes me feel all tingly inside. That's not weird right?  \"Joey?\" Alize says looking straight into my eyes.  My laughter died down.  \"Yeah?\" I say, still looking into hazel brown eyes.  \"I-\"  someone knocked on the door.  \"I'll go get it.\" She said.  I nod, upset that we were interrupted.  A few minutes later I hear Alize and someone else. A guy. I don't know who though.  Although he looks oddly familiar.  \"Joey this is Tyler.\" She said a little too happy.  For some odd reason i got really angry and protective.  \"Oh yeah I think i remember you.\" I say casually.   \"Wait Tyler how did you get my address?\" Alize asks, totally out of it.  \"Oh, that's right, when you have it to me you were totally hammered.\" Tyler says chuckling a little.  Alize blushes. \" oh right.\"  I smiled  \"Thank you, for understanding.\"  \"Don't mention it.\"  I sat down on a stool at our small ...  \n",
              "258   Hey! Jake said, trying to pull my attention away from my phone, with his hand under my chin, i looked up into his swirly colored eyes. \"that mouth is too pretty for dirty words\" he leaned down winked and pecked my lips. My cheeks becoming rosy red. \" seriosly what's wrong?\" he continued, looking towards my phone. \"ooooh that's never good, come on, let's get you home.\" he said, pulling me towards his motorcycle, pulling me onto his back. \" hey! what are you doing, I have legs you know?\" I protested against him picking me up. \" We can go faster this way.\" he replied like I was a 5 year old who can't walk as fast. \" It's gonna take the same amount of time for me to walk with you anywa-\" \"Common\" he turned his head so I could see him, and jetted out his lip. \" FFINNEEE\" I dragged out not being able to say no to his puppy dog face. \"mmm you smell good\" I giggled, loving how close we were. \" That's what they all say.\" he breathed out, sounding tired \" Do you want me to hop off, you soun...  \n",
              "584  Okay. she smiled and I set her down. She looked back up at me. \"Tom will you play dollys with me when you're done?\" she asked. \"Can I aske what you're doing here? I thought I made it clear over the phone that our fling was over.\" \"I know what you said but I wanted to tell you in person. I meant everything I said. I know that you don't want a relationship that's long distance but joules i'm serious. I can't lose you in my life Joules.\" \"Tom. I don't know what to say.\" she stuttered. \"Just say you'll be my friend. Say that you'll give me a chance.\" \"I will if you swear on your Fathers grave that you did not cheat on me.\" I know swearing on his grave is an awful thing to do. But I did not cheat on her. \"I swear.\" I spoke. \"Alright. We can see how this goes. Now would you like to come in?\" She asked. \"I'd love to.\" I smiled. ~~Michaels POV~~ As much as I was loving being grilled by Ryan nonstop about liking Joules I chose, instead to ditch him in California (not that he was upset. He w...  "
            ]
          },
          "metadata": {
            "tags": []
          },
          "execution_count": 105
        }
      ]
    },
    {
      "cell_type": "code",
      "metadata": {
        "id": "uiKnLGKFql3r",
        "colab": {
          "base_uri": "https://localhost:8080/",
          "height": 796
        },
        "outputId": "161326a2-a4b0-402a-bfc1-c464d368d41e"
      },
      "source": [
        "glove_output"
      ],
      "execution_count": null,
      "outputs": [
        {
          "output_type": "execute_result",
          "data": {
            "text/html": [
              "<div>\n",
              "<style scoped>\n",
              "    .dataframe tbody tr th:only-of-type {\n",
              "        vertical-align: middle;\n",
              "    }\n",
              "\n",
              "    .dataframe tbody tr th {\n",
              "        vertical-align: top;\n",
              "    }\n",
              "\n",
              "    .dataframe thead th {\n",
              "        text-align: right;\n",
              "    }\n",
              "</style>\n",
              "<table border=\"1\" class=\"dataframe\">\n",
              "  <thead>\n",
              "    <tr style=\"text-align: right;\">\n",
              "      <th></th>\n",
              "      <th>DocID</th>\n",
              "      <th>DocText</th>\n",
              "    </tr>\n",
              "  </thead>\n",
              "  <tbody>\n",
              "    <tr>\n",
              "      <th>3</th>\n",
              "      <td>54461</td>\n",
              "      <td>I caught up with Lisa quickly and grabbed her, throwing her over my shoulder while she thrashed and screamed, laughing her ass off. Hannah was taunting me getting teasingly close so I snapped my hand out and clamped it around her wrist, making her squeal. I carried Lisa and dragged Hannah into the water and then threw Lisa in, laughing as she coughed and spluttered, wiping water out of her face. She grinned at me and grabbed my hand pulling me into the water too and before I knew what was happening the other two girls jumped on me too. I heard my mom shout back, still laughing. “You girls knew this would happen, you deal with the consequences!”  I burst out laughing. Well I guess that’s what I get for falling asleep in front of three Peters girls, I should have known better! “You’d better run!” I shouted, streaking after one of them at random. It turned out to be Lisa so I smiled and pushed myself after her, making her scream at my mom for help, “Mom! Make him leave me alone!”  The...</td>\n",
              "    </tr>\n",
              "    <tr>\n",
              "      <th>102</th>\n",
              "      <td>59484</td>\n",
              "      <td>I'm going to teach you some self defense. So get you ass ready right now so we can leave. I laughed and pulled on some shorts and a tank top. When we finally laughed I looked up at him. He actually wasn't that bad looking. He had dark hair and dark eyes. He was very handsome and strong to. I ruffled my hair again looking in the mirror. My blond hair was something else. I didn't have to do much in order to control it. But what can I do, I was gorgeous. \"Where shall we go to eat?\" I ignored him and he drove off. \"So tell me about yourself,\" Dimitri said as I took a gulp of water down. \"I'm hungry.\" I cried. ~~~~~~~~~~~~~~~~~~~~~~~~~~~~~~~~~~~~~~~~~~~~~~~~~~~~~~~~~~~~~~~~~~~~~~~~~~~~~~~~ twenty Minutes later \"Kassidy turn the light off.\" I pulled the covers over my head only to have them pulled away from. I opened my eyes in surprised and saw Dimitri. I sighed and stood up letting him get a good look. I knew I was in my bra and thong but it wasn't my fault he was so fucking evil to pu...</td>\n",
              "    </tr>\n",
              "    <tr>\n",
              "      <th>551</th>\n",
              "      <td>51214</td>\n",
              "      <td>Well I know alot about you I say back Because uh.. I love you guys I say shyly. Aww don't be shy love I think your pretty he says winking at me.  I wake up and I'm still wrapped in his arms, warm and safe.  She went to get the casting stuff and I'm sitting her staring at the wall. The door creeks and I shoot up and roll off the bed and hide behind it. I see a dust pan and grab it. The person walks in and I charge throwing the dust pan at the person and hitting them right in the face.  I keep throwing stuff. Ow! Quinn stop! It's me Zayn! He yells. Zayn? I say questioning him. Yes, Zayn he says. I stop throwing stuff and fall to the floor and start crying.  Here let me get it he says. He leans in and wipes it off. He keeps his hand on my cheek and stares into my eyes. He closes his eyes and leans in. OMG he's going to kiss me! I feel butterflies in my stomach I close my eyes and are lips met and my stomach does flips.  I finished the bar and it felt good.  Uh Lanae you have a little ...</td>\n",
              "    </tr>\n",
              "    <tr>\n",
              "      <th>632</th>\n",
              "      <td>82059</td>\n",
              "      <td>It's about Alize. ********* Joey's P. O.V  I laughed as Alize said a very stupid joke.  She smiled. I love that smile. She makes me feel all tingly inside. That's not weird right?  \"Joey?\" Alize says looking straight into my eyes.  My laughter died down.  \"Yeah?\" I say, still looking into hazel brown eyes.  \"I-\"  someone knocked on the door.  \"I'll go get it.\" She said.  I nod, upset that we were interrupted.  A few minutes later I hear Alize and someone else. A guy. I don't know who though.  Although he looks oddly familiar.  \"Joey this is Tyler.\" She said a little too happy.  For some odd reason i got really angry and protective.  \"Oh yeah I think i remember you.\" I say casually.   \"Wait Tyler how did you get my address?\" Alize asks, totally out of it.  \"Oh, that's right, when you have it to me you were totally hammered.\" Tyler says chuckling a little.  Alize blushes. \" oh right.\"  I smiled  \"Thank you, for understanding.\"  \"Don't mention it.\"  I sat down on a stool at our small ...</td>\n",
              "    </tr>\n",
              "    <tr>\n",
              "      <th>258</th>\n",
              "      <td>69856</td>\n",
              "      <td>Hey! Jake said, trying to pull my attention away from my phone, with his hand under my chin, i looked up into his swirly colored eyes. \"that mouth is too pretty for dirty words\" he leaned down winked and pecked my lips. My cheeks becoming rosy red. \" seriosly what's wrong?\" he continued, looking towards my phone. \"ooooh that's never good, come on, let's get you home.\" he said, pulling me towards his motorcycle, pulling me onto his back. \" hey! what are you doing, I have legs you know?\" I protested against him picking me up. \" We can go faster this way.\" he replied like I was a 5 year old who can't walk as fast. \" It's gonna take the same amount of time for me to walk with you anywa-\" \"Common\" he turned his head so I could see him, and jetted out his lip. \" FFINNEEE\" I dragged out not being able to say no to his puppy dog face. \"mmm you smell good\" I giggled, loving how close we were. \" That's what they all say.\" he breathed out, sounding tired \" Do you want me to hop off, you soun...</td>\n",
              "    </tr>\n",
              "    <tr>\n",
              "      <th>584</th>\n",
              "      <td>64338</td>\n",
              "      <td>Okay. she smiled and I set her down. She looked back up at me. \"Tom will you play dollys with me when you're done?\" she asked. \"Can I aske what you're doing here? I thought I made it clear over the phone that our fling was over.\" \"I know what you said but I wanted to tell you in person. I meant everything I said. I know that you don't want a relationship that's long distance but joules i'm serious. I can't lose you in my life Joules.\" \"Tom. I don't know what to say.\" she stuttered. \"Just say you'll be my friend. Say that you'll give me a chance.\" \"I will if you swear on your Fathers grave that you did not cheat on me.\" I know swearing on his grave is an awful thing to do. But I did not cheat on her. \"I swear.\" I spoke. \"Alright. We can see how this goes. Now would you like to come in?\" She asked. \"I'd love to.\" I smiled. ~~Michaels POV~~ As much as I was loving being grilled by Ryan nonstop about liking Joules I chose, instead to ditch him in California (not that he was upset. He w...</td>\n",
              "    </tr>\n",
              "  </tbody>\n",
              "</table>\n",
              "</div>"
            ],
            "text/plain": [
              "     DocID  \\\n",
              "3    54461   \n",
              "102  59484   \n",
              "551  51214   \n",
              "632  82059   \n",
              "258  69856   \n",
              "584  64338   \n",
              "\n",
              "                                                                                                                                                                                                                                                                                                                                                                                                                                                                                                                                                                                                                                                                                                                                                                                                                                                                                                                                                                                                                                     DocText  \n",
              "3    I caught up with Lisa quickly and grabbed her, throwing her over my shoulder while she thrashed and screamed, laughing her ass off. Hannah was taunting me getting teasingly close so I snapped my hand out and clamped it around her wrist, making her squeal. I carried Lisa and dragged Hannah into the water and then threw Lisa in, laughing as she coughed and spluttered, wiping water out of her face. She grinned at me and grabbed my hand pulling me into the water too and before I knew what was happening the other two girls jumped on me too. I heard my mom shout back, still laughing. “You girls knew this would happen, you deal with the consequences!”  I burst out laughing. Well I guess that’s what I get for falling asleep in front of three Peters girls, I should have known better! “You’d better run!” I shouted, streaking after one of them at random. It turned out to be Lisa so I smiled and pushed myself after her, making her scream at my mom for help, “Mom! Make him leave me alone!”  The...  \n",
              "102  I'm going to teach you some self defense. So get you ass ready right now so we can leave. I laughed and pulled on some shorts and a tank top. When we finally laughed I looked up at him. He actually wasn't that bad looking. He had dark hair and dark eyes. He was very handsome and strong to. I ruffled my hair again looking in the mirror. My blond hair was something else. I didn't have to do much in order to control it. But what can I do, I was gorgeous. \"Where shall we go to eat?\" I ignored him and he drove off. \"So tell me about yourself,\" Dimitri said as I took a gulp of water down. \"I'm hungry.\" I cried. ~~~~~~~~~~~~~~~~~~~~~~~~~~~~~~~~~~~~~~~~~~~~~~~~~~~~~~~~~~~~~~~~~~~~~~~~~~~~~~~~ twenty Minutes later \"Kassidy turn the light off.\" I pulled the covers over my head only to have them pulled away from. I opened my eyes in surprised and saw Dimitri. I sighed and stood up letting him get a good look. I knew I was in my bra and thong but it wasn't my fault he was so fucking evil to pu...  \n",
              "551  Well I know alot about you I say back Because uh.. I love you guys I say shyly. Aww don't be shy love I think your pretty he says winking at me.  I wake up and I'm still wrapped in his arms, warm and safe.  She went to get the casting stuff and I'm sitting her staring at the wall. The door creeks and I shoot up and roll off the bed and hide behind it. I see a dust pan and grab it. The person walks in and I charge throwing the dust pan at the person and hitting them right in the face.  I keep throwing stuff. Ow! Quinn stop! It's me Zayn! He yells. Zayn? I say questioning him. Yes, Zayn he says. I stop throwing stuff and fall to the floor and start crying.  Here let me get it he says. He leans in and wipes it off. He keeps his hand on my cheek and stares into my eyes. He closes his eyes and leans in. OMG he's going to kiss me! I feel butterflies in my stomach I close my eyes and are lips met and my stomach does flips.  I finished the bar and it felt good.  Uh Lanae you have a little ...  \n",
              "632  It's about Alize. ********* Joey's P. O.V  I laughed as Alize said a very stupid joke.  She smiled. I love that smile. She makes me feel all tingly inside. That's not weird right?  \"Joey?\" Alize says looking straight into my eyes.  My laughter died down.  \"Yeah?\" I say, still looking into hazel brown eyes.  \"I-\"  someone knocked on the door.  \"I'll go get it.\" She said.  I nod, upset that we were interrupted.  A few minutes later I hear Alize and someone else. A guy. I don't know who though.  Although he looks oddly familiar.  \"Joey this is Tyler.\" She said a little too happy.  For some odd reason i got really angry and protective.  \"Oh yeah I think i remember you.\" I say casually.   \"Wait Tyler how did you get my address?\" Alize asks, totally out of it.  \"Oh, that's right, when you have it to me you were totally hammered.\" Tyler says chuckling a little.  Alize blushes. \" oh right.\"  I smiled  \"Thank you, for understanding.\"  \"Don't mention it.\"  I sat down on a stool at our small ...  \n",
              "258   Hey! Jake said, trying to pull my attention away from my phone, with his hand under my chin, i looked up into his swirly colored eyes. \"that mouth is too pretty for dirty words\" he leaned down winked and pecked my lips. My cheeks becoming rosy red. \" seriosly what's wrong?\" he continued, looking towards my phone. \"ooooh that's never good, come on, let's get you home.\" he said, pulling me towards his motorcycle, pulling me onto his back. \" hey! what are you doing, I have legs you know?\" I protested against him picking me up. \" We can go faster this way.\" he replied like I was a 5 year old who can't walk as fast. \" It's gonna take the same amount of time for me to walk with you anywa-\" \"Common\" he turned his head so I could see him, and jetted out his lip. \" FFINNEEE\" I dragged out not being able to say no to his puppy dog face. \"mmm you smell good\" I giggled, loving how close we were. \" That's what they all say.\" he breathed out, sounding tired \" Do you want me to hop off, you soun...  \n",
              "584  Okay. she smiled and I set her down. She looked back up at me. \"Tom will you play dollys with me when you're done?\" she asked. \"Can I aske what you're doing here? I thought I made it clear over the phone that our fling was over.\" \"I know what you said but I wanted to tell you in person. I meant everything I said. I know that you don't want a relationship that's long distance but joules i'm serious. I can't lose you in my life Joules.\" \"Tom. I don't know what to say.\" she stuttered. \"Just say you'll be my friend. Say that you'll give me a chance.\" \"I will if you swear on your Fathers grave that you did not cheat on me.\" I know swearing on his grave is an awful thing to do. But I did not cheat on her. \"I swear.\" I spoke. \"Alright. We can see how this goes. Now would you like to come in?\" She asked. \"I'd love to.\" I smiled. ~~Michaels POV~~ As much as I was loving being grilled by Ryan nonstop about liking Joules I chose, instead to ditch him in California (not that he was upset. He w...  "
            ]
          },
          "metadata": {
            "tags": []
          },
          "execution_count": 106
        }
      ]
    },
    {
      "cell_type": "code",
      "metadata": {
        "id": "tn35MufGmUwh",
        "colab": {
          "base_uri": "https://localhost:8080/",
          "height": 796
        },
        "outputId": "1687b39d-43cd-456d-95b4-c031d9452df8"
      },
      "source": [
        "fast_output"
      ],
      "execution_count": null,
      "outputs": [
        {
          "output_type": "execute_result",
          "data": {
            "text/html": [
              "<div>\n",
              "<style scoped>\n",
              "    .dataframe tbody tr th:only-of-type {\n",
              "        vertical-align: middle;\n",
              "    }\n",
              "\n",
              "    .dataframe tbody tr th {\n",
              "        vertical-align: top;\n",
              "    }\n",
              "\n",
              "    .dataframe thead th {\n",
              "        text-align: right;\n",
              "    }\n",
              "</style>\n",
              "<table border=\"1\" class=\"dataframe\">\n",
              "  <thead>\n",
              "    <tr style=\"text-align: right;\">\n",
              "      <th></th>\n",
              "      <th>DocID</th>\n",
              "      <th>DocText</th>\n",
              "    </tr>\n",
              "  </thead>\n",
              "  <tbody>\n",
              "    <tr>\n",
              "      <th>3</th>\n",
              "      <td>54461</td>\n",
              "      <td>I caught up with Lisa quickly and grabbed her, throwing her over my shoulder while she thrashed and screamed, laughing her ass off. Hannah was taunting me getting teasingly close so I snapped my hand out and clamped it around her wrist, making her squeal. I carried Lisa and dragged Hannah into the water and then threw Lisa in, laughing as she coughed and spluttered, wiping water out of her face. She grinned at me and grabbed my hand pulling me into the water too and before I knew what was happening the other two girls jumped on me too. I heard my mom shout back, still laughing. “You girls knew this would happen, you deal with the consequences!”  I burst out laughing. Well I guess that’s what I get for falling asleep in front of three Peters girls, I should have known better! “You’d better run!” I shouted, streaking after one of them at random. It turned out to be Lisa so I smiled and pushed myself after her, making her scream at my mom for help, “Mom! Make him leave me alone!”  The...</td>\n",
              "    </tr>\n",
              "    <tr>\n",
              "      <th>102</th>\n",
              "      <td>59484</td>\n",
              "      <td>I'm going to teach you some self defense. So get you ass ready right now so we can leave. I laughed and pulled on some shorts and a tank top. When we finally laughed I looked up at him. He actually wasn't that bad looking. He had dark hair and dark eyes. He was very handsome and strong to. I ruffled my hair again looking in the mirror. My blond hair was something else. I didn't have to do much in order to control it. But what can I do, I was gorgeous. \"Where shall we go to eat?\" I ignored him and he drove off. \"So tell me about yourself,\" Dimitri said as I took a gulp of water down. \"I'm hungry.\" I cried. ~~~~~~~~~~~~~~~~~~~~~~~~~~~~~~~~~~~~~~~~~~~~~~~~~~~~~~~~~~~~~~~~~~~~~~~~~~~~~~~~ twenty Minutes later \"Kassidy turn the light off.\" I pulled the covers over my head only to have them pulled away from. I opened my eyes in surprised and saw Dimitri. I sighed and stood up letting him get a good look. I knew I was in my bra and thong but it wasn't my fault he was so fucking evil to pu...</td>\n",
              "    </tr>\n",
              "    <tr>\n",
              "      <th>632</th>\n",
              "      <td>82059</td>\n",
              "      <td>It's about Alize. ********* Joey's P. O.V  I laughed as Alize said a very stupid joke.  She smiled. I love that smile. She makes me feel all tingly inside. That's not weird right?  \"Joey?\" Alize says looking straight into my eyes.  My laughter died down.  \"Yeah?\" I say, still looking into hazel brown eyes.  \"I-\"  someone knocked on the door.  \"I'll go get it.\" She said.  I nod, upset that we were interrupted.  A few minutes later I hear Alize and someone else. A guy. I don't know who though.  Although he looks oddly familiar.  \"Joey this is Tyler.\" She said a little too happy.  For some odd reason i got really angry and protective.  \"Oh yeah I think i remember you.\" I say casually.   \"Wait Tyler how did you get my address?\" Alize asks, totally out of it.  \"Oh, that's right, when you have it to me you were totally hammered.\" Tyler says chuckling a little.  Alize blushes. \" oh right.\"  I smiled  \"Thank you, for understanding.\"  \"Don't mention it.\"  I sat down on a stool at our small ...</td>\n",
              "    </tr>\n",
              "    <tr>\n",
              "      <th>551</th>\n",
              "      <td>51214</td>\n",
              "      <td>Well I know alot about you I say back Because uh.. I love you guys I say shyly. Aww don't be shy love I think your pretty he says winking at me.  I wake up and I'm still wrapped in his arms, warm and safe.  She went to get the casting stuff and I'm sitting her staring at the wall. The door creeks and I shoot up and roll off the bed and hide behind it. I see a dust pan and grab it. The person walks in and I charge throwing the dust pan at the person and hitting them right in the face.  I keep throwing stuff. Ow! Quinn stop! It's me Zayn! He yells. Zayn? I say questioning him. Yes, Zayn he says. I stop throwing stuff and fall to the floor and start crying.  Here let me get it he says. He leans in and wipes it off. He keeps his hand on my cheek and stares into my eyes. He closes his eyes and leans in. OMG he's going to kiss me! I feel butterflies in my stomach I close my eyes and are lips met and my stomach does flips.  I finished the bar and it felt good.  Uh Lanae you have a little ...</td>\n",
              "    </tr>\n",
              "    <tr>\n",
              "      <th>584</th>\n",
              "      <td>64338</td>\n",
              "      <td>Okay. she smiled and I set her down. She looked back up at me. \"Tom will you play dollys with me when you're done?\" she asked. \"Can I aske what you're doing here? I thought I made it clear over the phone that our fling was over.\" \"I know what you said but I wanted to tell you in person. I meant everything I said. I know that you don't want a relationship that's long distance but joules i'm serious. I can't lose you in my life Joules.\" \"Tom. I don't know what to say.\" she stuttered. \"Just say you'll be my friend. Say that you'll give me a chance.\" \"I will if you swear on your Fathers grave that you did not cheat on me.\" I know swearing on his grave is an awful thing to do. But I did not cheat on her. \"I swear.\" I spoke. \"Alright. We can see how this goes. Now would you like to come in?\" She asked. \"I'd love to.\" I smiled. ~~Michaels POV~~ As much as I was loving being grilled by Ryan nonstop about liking Joules I chose, instead to ditch him in California (not that he was upset. He w...</td>\n",
              "    </tr>\n",
              "    <tr>\n",
              "      <th>258</th>\n",
              "      <td>69856</td>\n",
              "      <td>Hey! Jake said, trying to pull my attention away from my phone, with his hand under my chin, i looked up into his swirly colored eyes. \"that mouth is too pretty for dirty words\" he leaned down winked and pecked my lips. My cheeks becoming rosy red. \" seriosly what's wrong?\" he continued, looking towards my phone. \"ooooh that's never good, come on, let's get you home.\" he said, pulling me towards his motorcycle, pulling me onto his back. \" hey! what are you doing, I have legs you know?\" I protested against him picking me up. \" We can go faster this way.\" he replied like I was a 5 year old who can't walk as fast. \" It's gonna take the same amount of time for me to walk with you anywa-\" \"Common\" he turned his head so I could see him, and jetted out his lip. \" FFINNEEE\" I dragged out not being able to say no to his puppy dog face. \"mmm you smell good\" I giggled, loving how close we were. \" That's what they all say.\" he breathed out, sounding tired \" Do you want me to hop off, you soun...</td>\n",
              "    </tr>\n",
              "  </tbody>\n",
              "</table>\n",
              "</div>"
            ],
            "text/plain": [
              "     DocID  \\\n",
              "3    54461   \n",
              "102  59484   \n",
              "632  82059   \n",
              "551  51214   \n",
              "584  64338   \n",
              "258  69856   \n",
              "\n",
              "                                                                                                                                                                                                                                                                                                                                                                                                                                                                                                                                                                                                                                                                                                                                                                                                                                                                                                                                                                                                                                     DocText  \n",
              "3    I caught up with Lisa quickly and grabbed her, throwing her over my shoulder while she thrashed and screamed, laughing her ass off. Hannah was taunting me getting teasingly close so I snapped my hand out and clamped it around her wrist, making her squeal. I carried Lisa and dragged Hannah into the water and then threw Lisa in, laughing as she coughed and spluttered, wiping water out of her face. She grinned at me and grabbed my hand pulling me into the water too and before I knew what was happening the other two girls jumped on me too. I heard my mom shout back, still laughing. “You girls knew this would happen, you deal with the consequences!”  I burst out laughing. Well I guess that’s what I get for falling asleep in front of three Peters girls, I should have known better! “You’d better run!” I shouted, streaking after one of them at random. It turned out to be Lisa so I smiled and pushed myself after her, making her scream at my mom for help, “Mom! Make him leave me alone!”  The...  \n",
              "102  I'm going to teach you some self defense. So get you ass ready right now so we can leave. I laughed and pulled on some shorts and a tank top. When we finally laughed I looked up at him. He actually wasn't that bad looking. He had dark hair and dark eyes. He was very handsome and strong to. I ruffled my hair again looking in the mirror. My blond hair was something else. I didn't have to do much in order to control it. But what can I do, I was gorgeous. \"Where shall we go to eat?\" I ignored him and he drove off. \"So tell me about yourself,\" Dimitri said as I took a gulp of water down. \"I'm hungry.\" I cried. ~~~~~~~~~~~~~~~~~~~~~~~~~~~~~~~~~~~~~~~~~~~~~~~~~~~~~~~~~~~~~~~~~~~~~~~~~~~~~~~~ twenty Minutes later \"Kassidy turn the light off.\" I pulled the covers over my head only to have them pulled away from. I opened my eyes in surprised and saw Dimitri. I sighed and stood up letting him get a good look. I knew I was in my bra and thong but it wasn't my fault he was so fucking evil to pu...  \n",
              "632  It's about Alize. ********* Joey's P. O.V  I laughed as Alize said a very stupid joke.  She smiled. I love that smile. She makes me feel all tingly inside. That's not weird right?  \"Joey?\" Alize says looking straight into my eyes.  My laughter died down.  \"Yeah?\" I say, still looking into hazel brown eyes.  \"I-\"  someone knocked on the door.  \"I'll go get it.\" She said.  I nod, upset that we were interrupted.  A few minutes later I hear Alize and someone else. A guy. I don't know who though.  Although he looks oddly familiar.  \"Joey this is Tyler.\" She said a little too happy.  For some odd reason i got really angry and protective.  \"Oh yeah I think i remember you.\" I say casually.   \"Wait Tyler how did you get my address?\" Alize asks, totally out of it.  \"Oh, that's right, when you have it to me you were totally hammered.\" Tyler says chuckling a little.  Alize blushes. \" oh right.\"  I smiled  \"Thank you, for understanding.\"  \"Don't mention it.\"  I sat down on a stool at our small ...  \n",
              "551  Well I know alot about you I say back Because uh.. I love you guys I say shyly. Aww don't be shy love I think your pretty he says winking at me.  I wake up and I'm still wrapped in his arms, warm and safe.  She went to get the casting stuff and I'm sitting her staring at the wall. The door creeks and I shoot up and roll off the bed and hide behind it. I see a dust pan and grab it. The person walks in and I charge throwing the dust pan at the person and hitting them right in the face.  I keep throwing stuff. Ow! Quinn stop! It's me Zayn! He yells. Zayn? I say questioning him. Yes, Zayn he says. I stop throwing stuff and fall to the floor and start crying.  Here let me get it he says. He leans in and wipes it off. He keeps his hand on my cheek and stares into my eyes. He closes his eyes and leans in. OMG he's going to kiss me! I feel butterflies in my stomach I close my eyes and are lips met and my stomach does flips.  I finished the bar and it felt good.  Uh Lanae you have a little ...  \n",
              "584  Okay. she smiled and I set her down. She looked back up at me. \"Tom will you play dollys with me when you're done?\" she asked. \"Can I aske what you're doing here? I thought I made it clear over the phone that our fling was over.\" \"I know what you said but I wanted to tell you in person. I meant everything I said. I know that you don't want a relationship that's long distance but joules i'm serious. I can't lose you in my life Joules.\" \"Tom. I don't know what to say.\" she stuttered. \"Just say you'll be my friend. Say that you'll give me a chance.\" \"I will if you swear on your Fathers grave that you did not cheat on me.\" I know swearing on his grave is an awful thing to do. But I did not cheat on her. \"I swear.\" I spoke. \"Alright. We can see how this goes. Now would you like to come in?\" She asked. \"I'd love to.\" I smiled. ~~Michaels POV~~ As much as I was loving being grilled by Ryan nonstop about liking Joules I chose, instead to ditch him in California (not that he was upset. He w...  \n",
              "258   Hey! Jake said, trying to pull my attention away from my phone, with his hand under my chin, i looked up into his swirly colored eyes. \"that mouth is too pretty for dirty words\" he leaned down winked and pecked my lips. My cheeks becoming rosy red. \" seriosly what's wrong?\" he continued, looking towards my phone. \"ooooh that's never good, come on, let's get you home.\" he said, pulling me towards his motorcycle, pulling me onto his back. \" hey! what are you doing, I have legs you know?\" I protested against him picking me up. \" We can go faster this way.\" he replied like I was a 5 year old who can't walk as fast. \" It's gonna take the same amount of time for me to walk with you anywa-\" \"Common\" he turned his head so I could see him, and jetted out his lip. \" FFINNEEE\" I dragged out not being able to say no to his puppy dog face. \"mmm you smell good\" I giggled, loving how close we were. \" That's what they all say.\" he breathed out, sounding tired \" Do you want me to hop off, you soun...  "
            ]
          },
          "metadata": {
            "tags": []
          },
          "execution_count": 107
        }
      ]
    },
    {
      "cell_type": "code",
      "metadata": {
        "id": "NTKVoQ-ejqju"
      },
      "source": [
        ""
      ],
      "execution_count": null,
      "outputs": []
    },
    {
      "cell_type": "markdown",
      "metadata": {
        "id": "K0eP4mjO4oNa"
      },
      "source": [
        "# DOC2VEC"
      ]
    },
    {
      "cell_type": "code",
      "metadata": {
        "id": "k6qJRqu45cSF"
      },
      "source": [
        "from gensim.models.doc2vec import Doc2Vec, TaggedDocument"
      ],
      "execution_count": null,
      "outputs": []
    },
    {
      "cell_type": "code",
      "metadata": {
        "id": "N4GaXymm58HS"
      },
      "source": [
        "def sent_to_words(sentences):\n",
        "    for sentence in sentences:\n",
        "        yield(gensim.utils.simple_preprocess(str(sentence), deacc=True))        "
      ],
      "execution_count": null,
      "outputs": []
    },
    {
      "cell_type": "code",
      "metadata": {
        "id": "cEW81xhvHZE8",
        "colab": {
          "base_uri": "https://localhost:8080/",
          "height": 570
        },
        "outputId": "eb64c4fe-f9fa-49bf-980b-7266eec84607"
      },
      "source": [
        "text_df"
      ],
      "execution_count": null,
      "outputs": [
        {
          "output_type": "execute_result",
          "data": {
            "text/html": [
              "<div>\n",
              "<style scoped>\n",
              "    .dataframe tbody tr th:only-of-type {\n",
              "        vertical-align: middle;\n",
              "    }\n",
              "\n",
              "    .dataframe tbody tr th {\n",
              "        vertical-align: top;\n",
              "    }\n",
              "\n",
              "    .dataframe thead th {\n",
              "        text-align: right;\n",
              "    }\n",
              "</style>\n",
              "<table border=\"1\" class=\"dataframe\">\n",
              "  <thead>\n",
              "    <tr style=\"text-align: right;\">\n",
              "      <th></th>\n",
              "      <th>DocID</th>\n",
              "      <th>DocText</th>\n",
              "      <th>ID</th>\n",
              "      <th>DocText_Clean</th>\n",
              "      <th>DocText_Cleaner</th>\n",
              "    </tr>\n",
              "  </thead>\n",
              "  <tbody>\n",
              "    <tr>\n",
              "      <th>0</th>\n",
              "      <td>90041</td>\n",
              "      <td>I hear it all the time boo! Too bad I ain't go...</td>\n",
              "      <td>719f7906-f626-45f7-a0cf-f51c5f946e7d</td>\n",
              "      <td>hear time boo bad get patience anyone elses pr...</td>\n",
              "      <td>hear time boo bad patience else problem laugh ...</td>\n",
              "    </tr>\n",
              "    <tr>\n",
              "      <th>1</th>\n",
              "      <td>48027</td>\n",
              "      <td>the dirt after the rain. soaking the hot, parc...</td>\n",
              "      <td>49ec299f-8951-4b96-bc73-b24149d8c89c</td>\n",
              "      <td>dirt rain soak hot parch earth curl bed warm f...</td>\n",
              "      <td>dirt rain soak hot parch earth curl bed warm f...</td>\n",
              "    </tr>\n",
              "    <tr>\n",
              "      <th>2</th>\n",
              "      <td>44081</td>\n",
              "      <td>The night before the wedding. A light tear tri...</td>\n",
              "      <td>df4ba250-71f8-4bf9-bbdb-205d6c01f6ff</td>\n",
              "      <td>night wed light tear trickle beautiful bold br...</td>\n",
              "      <td>night would light tear trickle beautiful bold ...</td>\n",
              "    </tr>\n",
              "    <tr>\n",
              "      <th>3</th>\n",
              "      <td>54461</td>\n",
              "      <td>I caught up with Lisa quickly and grabbed her,...</td>\n",
              "      <td>28317d65-dca4-4966-8b48-2e762e3e25bf</td>\n",
              "      <td>catch lisa quickly grab throw shoulder thrash ...</td>\n",
              "      <td>catch lisa quickly grab throw shoulder thrash ...</td>\n",
              "    </tr>\n",
              "    <tr>\n",
              "      <th>4</th>\n",
              "      <td>37461</td>\n",
              "      <td>And, he said as though he had not been interru...</td>\n",
              "      <td>b6874c4b-ef5e-46af-836e-a7285a675397</td>\n",
              "      <td>say though interrupt become friends dumbledore...</td>\n",
              "      <td>interrupt friend dumbledore good guy thank tha...</td>\n",
              "    </tr>\n",
              "    <tr>\n",
              "      <th>...</th>\n",
              "      <td>...</td>\n",
              "      <td>...</td>\n",
              "      <td>...</td>\n",
              "      <td>...</td>\n",
              "      <td>...</td>\n",
              "    </tr>\n",
              "    <tr>\n",
              "      <th>993</th>\n",
              "      <td>42620</td>\n",
              "      <td>Uhmm... a day or two. I told them, my mom had ...</td>\n",
              "      <td>0170e266-8320-4629-a5fc-f373a767f0dd</td>\n",
              "      <td>uhmm day two tell mom make buy food honestly k...</td>\n",
              "      <td>uhmm day tell mom buy food honestly know hungr...</td>\n",
              "    </tr>\n",
              "    <tr>\n",
              "      <th>994</th>\n",
              "      <td>62987</td>\n",
              "      <td>Chapter 10The harbor was full of thousands of ...</td>\n",
              "      <td>67c509f5-e18d-41ad-b40d-9e24a61b2c44</td>\n",
              "      <td>chapter harbor full thousands people everyone ...</td>\n",
              "      <td>chapter harbor thousand people struggle push h...</td>\n",
              "    </tr>\n",
              "    <tr>\n",
              "      <th>995</th>\n",
              "      <td>85335</td>\n",
              "      <td>Jason's POV\"Hello.I'm Blackrose.\" Said the lit...</td>\n",
              "      <td>28fa35af-193c-4539-84cc-699b00a284ac</td>\n",
              "      <td>jasons pov hello blackrose say little tiny imp...</td>\n",
              "      <td>jason pov hello blackrose little tiny imp dwar...</td>\n",
              "    </tr>\n",
              "    <tr>\n",
              "      <th>996</th>\n",
              "      <td>40867</td>\n",
              "      <td>xx Maggie Who loves 'Saved by the Bell'? I do!...</td>\n",
              "      <td>a95b9f5d-aae7-4361-92d8-d68f1c2893ca</td>\n",
              "      <td>maggie love save bell yes really short prologu...</td>\n",
              "      <td>maggie love save bell yes short prologue try p...</td>\n",
              "    </tr>\n",
              "    <tr>\n",
              "      <th>997</th>\n",
              "      <td>46588</td>\n",
              "      <td>.I sit down in the shower letting the warm wat...</td>\n",
              "      <td>78ac0a0f-0caf-4f6d-b436-881a8247323d</td>\n",
              "      <td>sit shower let warm water wash body hell like ...</td>\n",
              "      <td>sit shower let warm water wash body hell like ...</td>\n",
              "    </tr>\n",
              "  </tbody>\n",
              "</table>\n",
              "<p>998 rows × 5 columns</p>\n",
              "</div>"
            ],
            "text/plain": [
              "     DocID                                            DocText  \\\n",
              "0    90041  I hear it all the time boo! Too bad I ain't go...   \n",
              "1    48027  the dirt after the rain. soaking the hot, parc...   \n",
              "2    44081  The night before the wedding. A light tear tri...   \n",
              "3    54461  I caught up with Lisa quickly and grabbed her,...   \n",
              "4    37461  And, he said as though he had not been interru...   \n",
              "..     ...                                                ...   \n",
              "993  42620  Uhmm... a day or two. I told them, my mom had ...   \n",
              "994  62987  Chapter 10The harbor was full of thousands of ...   \n",
              "995  85335  Jason's POV\"Hello.I'm Blackrose.\" Said the lit...   \n",
              "996  40867  xx Maggie Who loves 'Saved by the Bell'? I do!...   \n",
              "997  46588  .I sit down in the shower letting the warm wat...   \n",
              "\n",
              "                                       ID  \\\n",
              "0    719f7906-f626-45f7-a0cf-f51c5f946e7d   \n",
              "1    49ec299f-8951-4b96-bc73-b24149d8c89c   \n",
              "2    df4ba250-71f8-4bf9-bbdb-205d6c01f6ff   \n",
              "3    28317d65-dca4-4966-8b48-2e762e3e25bf   \n",
              "4    b6874c4b-ef5e-46af-836e-a7285a675397   \n",
              "..                                    ...   \n",
              "993  0170e266-8320-4629-a5fc-f373a767f0dd   \n",
              "994  67c509f5-e18d-41ad-b40d-9e24a61b2c44   \n",
              "995  28fa35af-193c-4539-84cc-699b00a284ac   \n",
              "996  a95b9f5d-aae7-4361-92d8-d68f1c2893ca   \n",
              "997  78ac0a0f-0caf-4f6d-b436-881a8247323d   \n",
              "\n",
              "                                         DocText_Clean  \\\n",
              "0    hear time boo bad get patience anyone elses pr...   \n",
              "1    dirt rain soak hot parch earth curl bed warm f...   \n",
              "2    night wed light tear trickle beautiful bold br...   \n",
              "3    catch lisa quickly grab throw shoulder thrash ...   \n",
              "4    say though interrupt become friends dumbledore...   \n",
              "..                                                 ...   \n",
              "993  uhmm day two tell mom make buy food honestly k...   \n",
              "994  chapter harbor full thousands people everyone ...   \n",
              "995  jasons pov hello blackrose say little tiny imp...   \n",
              "996  maggie love save bell yes really short prologu...   \n",
              "997  sit shower let warm water wash body hell like ...   \n",
              "\n",
              "                                       DocText_Cleaner  \n",
              "0    hear time boo bad patience else problem laugh ...  \n",
              "1    dirt rain soak hot parch earth curl bed warm f...  \n",
              "2    night would light tear trickle beautiful bold ...  \n",
              "3    catch lisa quickly grab throw shoulder thrash ...  \n",
              "4    interrupt friend dumbledore good guy thank tha...  \n",
              "..                                                 ...  \n",
              "993  uhmm day tell mom buy food honestly know hungr...  \n",
              "994  chapter harbor thousand people struggle push h...  \n",
              "995  jason pov hello blackrose little tiny imp dwar...  \n",
              "996  maggie love save bell yes short prologue try p...  \n",
              "997  sit shower let warm water wash body hell like ...  \n",
              "\n",
              "[998 rows x 5 columns]"
            ]
          },
          "metadata": {
            "tags": []
          },
          "execution_count": 69
        }
      ]
    },
    {
      "cell_type": "code",
      "metadata": {
        "id": "3OrD_9NDKoFE"
      },
      "source": [
        "#created a nested list of DocID and DocText\n",
        "\n",
        "nested_docs = text_df.reset_index()[['DocID','DocText_Cleaner']].values.tolist()"
      ],
      "execution_count": null,
      "outputs": []
    },
    {
      "cell_type": "code",
      "metadata": {
        "id": "-Ki3mxk3NZBM"
      },
      "source": [
        "tagged_docs = []\n",
        "for row in nested_docs:\n",
        "  item = TaggedDocument(words=row[1].split(),tags=[row[0]])\n",
        "  tagged_docs.append(item)"
      ],
      "execution_count": null,
      "outputs": []
    },
    {
      "cell_type": "code",
      "metadata": {
        "id": "kOFX_lx_8Rae",
        "colab": {
          "base_uri": "https://localhost:8080/"
        },
        "outputId": "e9967812-02b4-4aaa-c2c8-c2248db35faf"
      },
      "source": [
        "%%time\n",
        "#Setting up the Doc2vec model and training parameters\n",
        "doc2vec_model = Doc2Vec(tagged_docs, \n",
        "                        vector_size=300, \n",
        "                        window=1, \n",
        "                        min_count=10, \n",
        "                        workers=4, \n",
        "                        dm=1, \n",
        "                        sample= 0.01, \n",
        "                        dm_concat = 1, \n",
        "                        negative = 5, \n",
        "                        dbow_words = 1, \n",
        "                        alpha=0.025, \n",
        "                        min_alpha=0.02)"
      ],
      "execution_count": null,
      "outputs": [
        {
          "output_type": "stream",
          "text": [
            "CPU times: user 28.6 s, sys: 147 ms, total: 28.7 s\n",
            "Wall time: 23.4 s\n"
          ],
          "name": "stdout"
        }
      ]
    },
    {
      "cell_type": "code",
      "metadata": {
        "id": "jjAxnhrhT0A_"
      },
      "source": [
        "#saving the model for future use.\n",
        "doc2vec_model.save('/content/drive/MyDrive/wattpad_test/root/models/doc2vec/doc2vec.model')"
      ],
      "execution_count": null,
      "outputs": []
    },
    {
      "cell_type": "code",
      "metadata": {
        "id": "2askpoOZ8YqA",
        "colab": {
          "base_uri": "https://localhost:8080/"
        },
        "outputId": "320d7935-61a4-4c0e-f30a-ae130384ba41"
      },
      "source": [
        "#testing word similiarity\n",
        "doc2vec_model.wv.most_similar('hello')"
      ],
      "execution_count": null,
      "outputs": [
        {
          "output_type": "execute_result",
          "data": {
            "text/plain": [
              "[('hey', 0.6708171367645264),\n",
              " ('holly', 0.6362658739089966),\n",
              " ('beti', 0.6282057762145996),\n",
              " ('dryly', 0.6237810850143433),\n",
              " ('mrs', 0.6122820377349854),\n",
              " ('bye', 0.6112575531005859),\n",
              " ('gezel', 0.6052325963973999),\n",
              " ('drake', 0.599120557308197),\n",
              " ('zack', 0.596785306930542),\n",
              " ('jennifer', 0.5955810546875)]"
            ]
          },
          "metadata": {
            "tags": []
          },
          "execution_count": 112
        }
      ]
    },
    {
      "cell_type": "markdown",
      "metadata": {
        "id": "SACzEceIIWNm"
      },
      "source": [
        "## Similiarity Query\n",
        "\n"
      ]
    },
    {
      "cell_type": "code",
      "metadata": {
        "id": "5Prsfu75JW6d"
      },
      "source": [
        "def doc_tokens(DocID, df):\n",
        "  #retrieve stored value\n",
        "  query_string = df[df['DocID']==DocID]['DocText_Cleaner'].item()\n",
        "  query_tokens = query_string.split()\n",
        "  print(query_tokens)\n",
        "  return query_tokens"
      ],
      "execution_count": null,
      "outputs": []
    },
    {
      "cell_type": "code",
      "metadata": {
        "id": "Yh6TjYQ5FTrQ"
      },
      "source": [
        "def similiarity_query(query, model):\n",
        "  query_vector = model.infer_vector(query)\n",
        "  sim_results = model.docvecs.most_similar([query_vector], topn=6)\n",
        "  return sim_results"
      ],
      "execution_count": null,
      "outputs": []
    },
    {
      "cell_type": "code",
      "metadata": {
        "id": "ogmP3ARO8Ysz",
        "colab": {
          "base_uri": "https://localhost:8080/"
        },
        "outputId": "d41bc673-f9e3-4df4-cc13-d2916b0994a2"
      },
      "source": [
        "query = doc_tokens(54461, text_df)"
      ],
      "execution_count": null,
      "outputs": [
        {
          "output_type": "stream",
          "text": [
            "['catch', 'lisa', 'quickly', 'grab', 'throw', 'shoulder', 'thrash', 'scream', 'laugh', 'ass', 'hannah', 'taunt', 'teasingly', 'close', 'snap', 'hand', 'clamp', 'wrist', 'squeal', 'carry', 'lisa', 'drag', 'hannah', 'water', 'throw', 'lisa', 'laugh', 'cough', 'splutter', 'wipe', 'water', 'face', 'grin', 'grab', 'hand', 'pull', 'water', 'know', 'happen', 'girl', 'jump', 'hear', 'mom', 'shout', 'laugh', 'girl', 'know', 'happen', 'deal', 'consequence', 'burst', 'laugh', 'guess', 'fall', 'asleep', 'peters', 'girl', 'know', 'better', 'better', 'run', 'shout', 'streak', 'random', 'turn', 'lisa', 'smile', 'push', 'scream', 'mom', 'help', 'mom', 'leave', 'girl', 'run', 'different', 'direction', 'laugh', 'ass', 'language', 'nathaniel', 'mom', 'scold', 'giggle', 'shout', 'mouth', 'drop', 'open', 'shock', 'draw', 'asleep', 'little', 'bitch', 'slogans', 'rosie', 'bitch', 'arrow', 'point', 'waistband', 'short', 'lose', 'return', 'local', 'strip', 'club', 'momma', 'little', 'soldier', 'crude', 'draw', 'chest', 'stomach', 'big', 'big', 'smiley', 'face', 'scrawl', 'forearm', 'look', 'stuff', 'bring', 'black', 'chest', 'catch', 'attention', 'frown', 'look', 'chest', 'cover', 'marker', 'pen', 'hannah', 'shake', 'head', 'look', 'innocently', 'lisa', 'choke', 'laughter', 'turn', 'away', 'look', 'warningly', 'sort', 'joke', 'crap', 'better', 'steal', 'phone', 'text', 'rosie', 'ask', 'lean', 'elbow', 'actually', 'come', 'think', 'lisa', 'laugh', 'ignore', 'hour', 'pretty', 'quick', 'turnaround', 'definitely', 'hell', 'exchange', 'glance', 'carry', 'laugh', 'yawn', 'tire', 'late', 'night', 'decide', 'hour', 'sleep', 'dad', 'walk', 'past', 'carry', 'cooler', 'probably', 'refill', 'drink', 'supply', 'look', 'start', 'laugh', 'high', 'five', 'paige', 'way', 'past', 'sit', 'mom', 'chuckle', 'wrong', 'guy', 'look', 'like', 'witch', 'open', 'scene', 'macbeth', 'state', 'laugh', 'joke', 'settle', 'towel', 'wake', 'nudge', 'arm', 'flick', 'eye', 'wonder', 'remember', 'beach', 'smile', 'paige', 'hannah', 'lisa', 'sit', 'look', 'giggle', 'quietly', 'hell', 'god', 'tell', 'pervert', 'dream', 'wake', 'boner', 'jerk', 'slightly', 'hand', 'crotch', 'check', 'safe', 'relax', 'hour', 'later', 'beach', 'end', 'parent', 'property', 'love', 'beach', 'grow', 'love', 'day', 'house', 'like', 'parent', 'wishful', 'think', 'mind', 'flick', 'rosie', 'bet', 'love', 'build', 'sandcastle', 'smile', 'lie', 'towel', 'sunbathe', 'talk', 'paige', 'hour', 'rosie', 'catch', 'college', 'final', 'year', 'exam', 'come', 'month', 'nice', 'catch', 'chill', 'family', 'start', 'laugh', 'head', 'hand', 'crazy', 'mother', 'rosie', 'laugh', 'hard', 'listen', 'minute', 'calm', 'talk', 'stink', 'eye', 'repeat', 'mother', 'word', 'burst', 'fit', 'giggle', 'groan', 'phone', 'ear', 'wince', 'slightly', 'rise', 'sorry', 'phone', 'realise', 'like', 'freak', 'ninja', 'woman', 'hear', 'come', 'room', 'moan', 'squeeze', 'eye', 'shut', 'embarrass', 'grin', 'slap', 'chest', 'walk', 'kitchen', 'patio', 'exclaim', 'father', 'evan', 'adorable', 'phone', 'hand', 'chest', 'rosie', 'hear', 'shake', 'head', 'disbelief', 'happen', 'hell', 'scar', 'away', 'mom', 'swear', 'piss', 'laundry', 'month', 'threaten', 'frown', 'try', 'laugh', 'time', 'roll', 'eye', 'stink', 'eye', 'phone', 'laugh', 'hear', 'rosie', 'laugh', 'line', 'talk', 'soon', 'meet', 'absolutely', 'wait', 'bye', 'sweetheart', 'mom', 'sing', 'grin', 'happily', 'anymore', 'hold', 'hand', 'glare', 'bye', 'let', 'talk', 'sternly', 'grip', 'hand', 'hair', 'speak', 'dawn', 'nate', 'mom', 'nice', 'talk', 'sweetheart', 'yeah', 'behave', 'shoot', 'smirk', 'nod', 'thumb', 'sign', 'wish', 'grind', 'open', 'swallow', 'start', 'laugh', 'rosie', 'couple', 'week', 'tell', 'tell', 'slap', 'laugh', 'eye', 'twinkle', 'wish', 'come', 'today', 'yeah', 'time', 'absolutely', 'sweetheart', 'glad', 'find', 'care', 'crap', 'let', 'dream', 'let', 'mother', 'steal', 'phone', 'talk', 'girlfriend', 'meet', 'rosie', 'think', 'mother', 'freak', 'crazy', 'hell', 'crazy', 'base', 'right', 'hello', 'rosie', 'ask', 'grin', 'like', 'mad', 'woman', 'mom', 'hell', 'shout', 'try', 'grab', 'phone', 'turn', 'start', 'talk', 'jump', 'look', 'mom', 'phone', 'ear', 'holy', 'crap', 'hell', 'snatch', 'phone', 'rosie', 'ruin', 'start', 'coo', 'new', 'grandchild', 'scare', 'rosie', 'away', 'forward', 'pressure', 'sound', 'good', 'start', 'phone', 'snatch', 'hand', 'finish', 'smile', 'earth', 'err', 'eat', 'think', 'beach', 'bite', 'shrug', 'skim', 'grandchild', 'hysteria', 'come', 'mom', 'rosie', 'come', 'phone', 'minute', 'sorry', 'mumble', 'visit', 'parent', 'ask', 'laugh', 'hear', 'little', 'voice', 'line', 'momma', 'auntie', 'sophie', 'stay', 'lunch', 'ask', 'muffle', 'talk', 'phone', 'rosie', 'tell', 'sophie', 'stay', 'want', 'park', 'smile', 'soft', 'tone', 'voice', 'speak', 'sound', 'like', 'great', 'mom', 'lucky', 'kid', 'grin', 'shake', 'head', 'remember', 'use', 'word', 'hot', 'loud', 'little', 'drunken', 'brunette', 'state', 'laugh', 'quietly', 'loud', 'little', 'drunken', 'brunette', 'sound', 'like', 'word', 'nate', 'laugh', 'drain', 'rum', 'bar', 'night', 'hear', 'barman', 'fresh', 'order', 'new', 'case', 'word', 'loud', 'little', 'drunken', 'brunette', 'fortune', 'joke', 'groan', 'feel', 'bad', 'drink', 'night', 'man', 'honestly', 'feel', 'like', 'pile', 'junk', 'right', 'stumble', 'cuss', 'word', 'guess', 'earshot', 'smile', 'sound', 'voice', 'definitely', 'suffer', 'tone', 'hush', 'want', 'speak', 'loudly', 'hurt', 'head', 'hey', 'strip', 'feel', 'today', 'hey', 'answer', 'couple', 'ring', 'instantly', 'mind', 'flick', 'rosie', 'feel', 'smile', 'creep', 'face', 'help', 'wonder', 'suffer', 'today', 'rum', 'coke', 'away', 'night', 'pull', 'cell', 'phone', 'pocket', 'frown', 'battery', 'think', 'bring', 'charger', 'fine', 'dial', 'number', 'quickly', 'hold', 'breath', 'wait', 'answer', 'nod', 'yeah', 'little', 'want', 'hang', 'beach', 'bite', 'ask', 'nod', 'kiss', 'cheek', 'walk', 'leave', 'kitchen', 'miss', 'nate', 'tell', 'rosie', 'right', 'ask', 'look', 'hopefully', 'bat', 'hand', 'away', 'pretend', 'annoy', 'run', 'hand', 'hair', 'touch', 'hair', 'know', 'rule', 'joke', 'laugh', 'paige', 'laugh', 'like', 'happy', 'nate', 'let', 'mom', 'craziness', 'know', 'excite', 'grow', 'tease', 'ruffle', 'hair', 'joke', 'grin', 'come', 'hit', 'like', 'freak', 'truck', 'girlfriend', 'child', 'huh', 'come', 'admit', 'sling', 'arm', 'shoulder', 'pull', 'kiss', 'head', 'yeah', 'little', 'sister', 'paige', 'hey', 'smile', 'touch', 'jump', 'hear', 'come', 'silently', 'pray', 'mom', 'need', 'minute', 'peace', 'let', 'little', 'rant', 'sink', 'walk', 'hear', 'dad', 'tell', 'mom', 'chill', 'shoot', 'grateful', 'smile', 'shoulder', 'plate', 'sink', 'couple', 'deep', 'breath', 'expect', 'argument', 'girlfriend', 'single', 'mother', 'instead', 'mom', 'coo', 'child', 'meet', 'right', 'mutter', 'look', 'dad', 'help', 'shrug', 'shake', 'head', 'tell', 'involve', 'calm', 'groan', 'pick', 'plate', 'want', 'escape', 'madness', 'little', 'look', 'like', 'nate', 'need', 'detail', 'beg', 'sit', 'look', 'expectantly', 'crazy', 'like', 'joke', 'laugh', 'boy', 'old', 'home', 'mom', 'cry', 'wide', 'excite', 'eye', 'wait', 'grandchild', 'wonder', 'grandma', 'old', 'nanny', 'like', 'beam', 'wipe', 'tear', 'eye', 'look', 'early', 'day', 'know', 'short', 'time', 'let', 'carry', 'away', 'suggest', 'shake', 'head', 'laugh', 'help', 'laugh', 'mom', 'hat', 'margaret', 'lifelong', 'competition', 'margaret', 'people', 'upstage', 'mom', 'margaret', 'better', 'accord', 'fact', 'margaret', 'grandchild', 'mom', 'compete', 'nate', 'baby', 'gosh', 'wait', 'tell', 'girls', 'bowl', 'club', 'margaret', 'rub', 'face', 'grandchild', 'wait', 'wipe', 'smug', 'look', 'face', 'monday', 'mom', 'chirp', 'grin', 'like', 'crazy', 'person', 'early', 'start', 'unsure', 'answer', 'comment', 'flinch', 'slightly', 'reaction', 'paige', 'dad', 'laugh', 'hard', 'grandchild', 'shriek', 'clap', 'hand', 'jump', 'chair', 'squeal', 'excitedly', 'dad', 'bust', 'laugh', 'paige', 'hannah', 'mouth', 'drop', 'open', 'shock', 'lisa', 'continue', 'bob', 'head', 'beat', 'song', 'blast', 'ear', 'phone', 'mom', 'reaction', 'different', 'altogether', 'rosie', 'little', 'boy', 'quietly', 'kind', 'hop', 'hear', 'deep', 'breath', 'wonder', 'parent', 'react', 'know', 'rosie', 'son', 'think', 'bad', 'hop', 'know', 'angry', 'start', 'bash', 'single', 'parent', 'want', 'argument', 'commitment', 'paige', 'ask', 'look', 'curious', 'smile', 'apologetically', 'rosie', 'err', 'commitment', 'drop', 'come', 'awkwardly', 'tomorrow', 'instead', 'suggest', 'laugh', 'love', 'right', 'rosie', 'probably', 'nurse', 'hangover', 'hell', 'morning', 'weekend', 'busy', 'today', 'reply', 'shrug', 'ignore', 'mom', 'disappoint', 'face', 'mom', 'beam', 'meet', 'bring', 'today', 'nate', 'home', 'bring', 'mom', 'beg', 'look', 'plead', 'eye', 'use', 'dad', 'time', 'learn', 'puppy', 'dog', 'face', 'mimic', 'mother', 'dad', 'look', 'photo', 'whistle', 'appreciatively', 'nice', 'job', 'nate', 'congratulate', 'slap', 'shoulder', 'proudly', 'laugh', 'roll', 'eye', 'laugh', 'awkwardly', 'rub', 'neck', 'expect', 'excite', 'yeah', 'awesome', 'mutter', 'stuff', 'rest', 'fry', 'breakfast', 'pass', 'phone', 'squeak', 'look', 'picture', 'cry', 'kind', 'start', 'little', 'freak', 'beautiful', 'look', 'awww', 'aww', 'stutter', 'swipe', 'happy', 'tear', 'continue', 'fall', 'mom', 'excite', 'little', 'whoop', 'noise', 'start', 'fire', 'question', 'fast', 'regret', 'tell', 'rosie', 'meet', 'long', 'know', 'live', 'ask', 'look', 'like', 'pull', 'phone', 'find', 'photo', 'rosie', 'night', 'hand', 'phone', 'mom', 'eager', 'practically', 'snatch', 'hand', 'meet', 'like', 'admit', 'shrug', 'gulp', 'shake', 'head', 'try', 'work', 'talk', 'girl', 'look', 'proudly', 'shock', 'girlfriend', 'ask', 'curiously', 'hannah', 'mutter', 'breath', 'lisa', 'earphone', 'pretend', 'like', 'paige', 'catch', 'eye', 'grin', 'look', 'mom', 'look', 'little', 'shock', 'grin', 'eld', 'listen', 'plus', 'boy', 'mean', 'dad', 'final', 'tell', 'mom', 'clear', 'throat', 'statement', 'quickly', 'backtrack', 'mom', 'course', 'add', 'laugh', 'ass', 'nate', 'double', 'standard', 'fair', 'ask', 'frown', 'smirk', 'like', 'state', 'try', 'laugh', 'girlfriend', 'talk', 'guy', 'ask', 'look', 'clearly', 'annoy', 'loud', 'crash', 'table', 'attention', 'away', 'slightly', 'freak', 'mother', 'look', 'hannah', 'slam', 'hand', 'table', 'glare', 'angrily', 'laugh', 'shrug', 'yeah', 'great', 'like', 'honestly', 'girl', 'mom', 'stutter', 'look', 'like', 'tear', 'form', 'eye', 'look', 'mom', 'star', 'wide', 'eye', 'mouth', 'hang', 'open', 'shock', 'laugh', 'shock', 'girlfriend', 'admit', 'casual', 'fling', 'girl', 'far', 'concern', 'girl', 'probably', 'hear', 'maybe', 'secretly', 'think', 'settle', 'guess', 'bachelor', 'time', 'come', 'end', 'sooner', 'later', 'grin', 'like', 'idiot', 'think', 'rosie', 'nod', 'mom', 'gasp', 'yeah', 'actually', 'admit', 'proudly', 'girl', 'scene', 'nate', 'dad', 'ask', 'smirk', 'knowingly', 'breakfast', 'talk', 'turn', 'lately', 'taylor', 'little', 'baby', 'cameron', 'mom', 'adore', 'ashton', 'family', 'think', 'kind', 'adopt', 'little', 'friend', 'academy', 'time', 'train', 'come', 'stay', 'chill', 'beach', 'pamper', 'like', 'crazy', 'love', 'anna', 'laugh', 'pull', 'hug', 'let', 'paige', 'grab', 'wrap', 'arm', 'waist', 'gasp', 'look', 'fake', 'horror', 'lose', 'weight', 'state', 'excellent', 'impression', 'mom', 'voice', 'burst', 'laughter', 'feel', 'relax', 'good', 'home', 'sigh', 'nod', 'look', 'somewhat', 'reluctant', 'felt', 'relax', 'check', 'know', 'mess', 'fine', 'ask', 'tonight', 'hannah', 'shrug', 'cutlery', 'hold', 'step', 'close', 'lecture', 'proper', 'hello', 'tease', 'fine', 'want', 'meet', 'leave', 'counter', 'look', 'hannah', 'sternly', 'know', 'discuss', 'debate', 'frown', 'need', 'little', 'punk', 'care', 'sweetheart', 'nee', 'know', 'hurt', 'sister', 'hurt', 'twice', 'bad', 'return', 'flick', 'eye', 'dad', 'stand', 'watch', 'amuse', 'smile', 'face', 'look', 'relax', 'shrug', 'shake', 'head', 'slightly', 'leave', 'gesture', 'sigh', 'dad', 'lie', 'people', 'exactly', 'attitude', 'know', 'look', 'sure', 'spit', 'image', 'dad', 'build', 'blonde', 'hair', 'blue', 'eye', 'mom', 'determination', 'set', 'mind', 'matter', 'work', 'work', 'hannah', 'laugh', 'guy', 'date', 'robert', 'sweetheart', 'leave', 'sternly', 'cross', 'arm', 'chest', 'baby', 'sister', 'little', 'girl', 'pigtail', 'use', 'park', 'push', 'swing', 'little', 'girl', 'use', 'play', 'hide', 'seek', 'hour', 'end', 'paige', 'crazy', 'obsess', 'game', 'kid', 'hard', 'let', 'big', 'brother', 'act', 'long', 'let', 'grow', 'want', 'hurt', 'thing', 'want', 'meet', 'people', 'want', 'meet', 'know', 'world', 'like', 'job', 'open', 'type', 'people', 'want', 'know', 'guess', 'hop', 'protect', 'laugh', 'share', 'know', 'look', 'paige', 'stand', 'suddenly', 'dawn', 'probably', 'lot', 'boy', 'know', 'mind', 'wander', 'like', 'age', 'hell', 'lisa', 'age', 'thing', 'girl', 'blush', 'judge', 'groan', 'hop', 'admit', 'roll', 'eye', 'nate', 'tell', 'think', 'boyfriend', 'ask', 'smirk', 'hell', 'yeah', 'time', 'hear', 'guy', 'invite', 'breakfast', 'order', 'pull', 'cell', 'phone', 'pocket', 'hold', 'look', 'groan', 'look', 'pleadingly', 'eye', 'flick', 'kitchen', 'mom', 'tell', 'robert', 'whine', 'pout', 'hannah', 'shout', 'burst', 'door', 'nod', 'head', 'door', 'nee', 'find', 'little', 'punk', 'dare', 'touch', 'little', 'sister', 'think', 'pact', 'allow', 'date', 'home', 'guess', 'little', 'unrealistic', 'oath', 'tenth', 'birthday', 'good', 'chance', 'forget', 'sigh', 'shake', 'head', 'hannah', 'ask', 'answer', 'nice', 'boy', 'start', 'couple', 'week', 'like', 'trail', 'laugh', 'probably', 'consider', 'instantly', 'start', 'worry', 'guy', 'like', 'date', 'sister', 'know', 'exactly', 'kind', 'guy', 'people', 'warn', 'sister', 'guy', 'use', 'people', 'interest', 'guy', 'want', 'fun', 'demand', 'smile', 'knowingly', 'groan', 'nee', 'know', 'smile', 'mean', 'date', 'big', 'brother', 'duty', 'perform', 'leave', 'skip', 'school', 'steal', 'need', 'threat', 'castration', 'boy', 'hang', 'run', 'security', 'check', 'ask', 'curiously', 'smile', 'sister', 'especially', 'paige', 'time', 'come', 'weekend', 'friend', 'close', 'age', 'guess', 'difference', 'age', 'rosie', 'mom', 'smile', 'obviously', 'catch', 'change', 'subject', 'grin', 'sheepishly', 'roll', 'eye', 'set', 'table', 'patio', 'ready', 'breakfast', 'nod', 'door', 'nod', 'look', 'longingly', 'know', 'exactly', 'come', 'settle', 'nate', 'quickly', 'speak', 'dad', 'hannah', 'paige', 'ask', 'ask', 'pretend', 'interest', 'reality', 'care', 'anthony', 'dick', 'marry', 'guy', 'hell', 'want', 'marry', 'reason', 'mind', 'flick', 'rosie', 'frown', 'shift', 'foot', 'awkwardly', 'attack', 'slice', 'bread', 'stupid', 'brain', 'good', 'let', 'think', 'happen', 'speak', 'week', 'trail', 'purse', 'lip', 'think', 'weekly', 'event', 'speak', 'mom', 'week', 'guess', 'momma', 'boy', 'care', 'label', 'mom', 'awesome', 'brighten', 'look', 'suddenly', 'remember', 'cousin', 'anthony', 'marry', 'nod', 'enthusiastically', 'grin', 'mom', 'nathaniel', 'tell', 'love', 'ask', 'pick', 'bread', 'butter', 'stomach', 'growl', 'think', 'mom', 'cook', 'mom', 'laugh', 'shake', 'head', 'sausage', 'pan', 'cook', 'leave', 'nathaniel', 'scold', 'roll', 'eye', 'scowl', 'deepen', 'grab', 'carton', 'orange', 'juice', 'fridge', 'turn', 'stalk', 'room', 'grumble', 'breath', 'usual', 'routine', 'hate', 'couple', 'hour', 'time', 'leave', 'monday', 'morning', 'hang', 'ask', 'come', 'beg', 'let', 'come', 'live', 'city', 'light', 'seventeen', 'baby', 'sister', 'pain', 'ass', 'love', 'complain', 'laugh', 'raise', 'eyebrow', 'strop', 'bad', 'stop', 'cuss', 'boyfriend', 'nee', 'know', 'trip', 'break', 'leg', 'leave', 'smile', 'sweetly', 'gasp', 'look', 'mom', 'wash', 'golden', 'boy', 'tell', 'leave', 'mom', 'minute', 'piss', 'cross', 'arm', 'chest', 'defensively', 'wash', 'crap', 'hair', 'come', 'time', 'joke', 'stern', 'face', 'snort', 'scoff', 'turn', 'fridge', 'smirk', 'nod', 'yeah', 'know', 'hug', 'ask', 'hold', 'arm', 'know', 'come', 'need', 'guess', 'little', 'strict', 'like', 'run', 'house', 'young', 'daughter', 'way', 'parent', 'jerk', 'hiss', 'lisa', 'nod', 'acknowledgement', 'earphone', 'hum', 'heavy', 'metal', 'crap', 'listen', 'wait', 'turn', 'look', 'fridge', 'grab', 'span', 'round', 'squeal', 'laugh', 'punch', 'arm', 'scowl', 'see', 'movement', 'corner', 'eye', 'young', 'sister', 'lisa', 'walk', 'usual', 'wear', 'baggy', 'jean', 'band', 'tee', 'eyeliner', 'black', 'nail', 'blonde', 'hair', 'thick', 'jet', 'black', 'streak', 'hmm', 'new', 'flick', 'eye', 'mom', 'wonder', 'let', 'hair', 'shrug', 'response', 'look', 'sure', 'week', 'little', 'crazy', 'moment', 'cameron', 'rosie', 'job', 'mom', 'look', 'mousy', 'brown', 'hair', 'pull', 'messy', 'bun', 'light', 'blue', 'eye', 'spark', 'happiness', 'wear', 'usual', 'attire', 'short', 'loose', 'fit', 'design', 'comfort', 'look', 'classy', 'beautiful', 'push', 'grin', 'good', 'actually', 'admit', 'smile', 'link', 'arm', 'pull', 'kitchen', 'cook', 'storm', 'ready', 'arrival', 'miss', 'good', 'ask', 'eye', 'worriedly', 'nod', 'miss', 'honestly', 'ignore', 'comment', 'nice', 'girl', 'flip', 'tell', 'rosie', 'tell', 'phone', 'want', 'sure', 'work', 'want', 'tell', 'mom', 'rosie', 'bore', 'mom', 'hound', 'forever', 'happen', 'exclusive', 'desperate', 'tell', 'mom', 'want', 'person', 'face', 'tell', 'totally', 'crazy', 'girl', 'need', 'find', 'girl', 'look', 'fee', 'properly', 'nathaniel', 'pull', 'grin', 'shake', 'head', 'thing', 'mouth', 'follow', 'walk', 'room', 'tackle', 'hug', 'mom', 'laugh', 'squeeze', 'life', 'lose', 'weight', 'grip', 'pat', 'hug', 'grin', 'head', 'inside', 'shout', 'soon', 'walk', 'door', 'head', 'straight', 'laundry', 'room', 'dump', 'bag', 'mom', 'short', 'drive', 'long', 'beach', 'parent', 'beach', 'house', 'time', 'morning', 'hour', 'pull', 'drive', 'smile', 'love', 'come', 'smell', 'air', 'white', 'house', 'grow', 'tree', 'use', 'use', 'climb', 'bedroom', 'want', 'sneak', 'chuckle', 'quietly', 'think', 'night', 'night', 'rosie', 'definitely', 'adorable', 'drink', 'wonder', 'remember', 'thing', 'sober', 'hop', 'definitely', 'want', 'guess', 'find', 'see', 'couple', 'day', 'rule', 'drive', 'home', 'sunday', 'afternoon', 'instead', 'usual', 'routine', 'straight', 'work', 'parent', 'monday', 'morning', 'hour', 'want', 'alarm', 'early', 'morning', 'groan', 'look', 'set', 'seven', 'remember', 'parent', 'today', 'reluctantly', 'push', 'bed', 'head', 'quick', 'shower', 'grab', 'overnight', 'bag', 'dirty', 'clothe', 'bundle', 'trash', 'bag', 'head', 'downstairs', 'hail', 'cab', 'ashton', 'car', 'usually', 'walk', 'tire', 'hour', 'sleep', 'chapter', 'hey', 'chapter', 'vote', 'laugh', 'chuckle', 'quietly', 'story', 'watty', 'award', 'humour', 'category', 'funny', 'vote', 'like', 'tweet', 'laugh', 'grin', 'like', 'idiot', 'snort', 'nose', 'copyright', 'kirsty', 'moseley', 'banner', 'feistykrox', 'awesome', 'right', 'thank', 'honey', 'comment', 'vote', 'like', 'tweet', 'laugh', 'love', 'peters', 'girl', 'right', 'lmao', 'write', 'end', 'hope', 'laugh', 'little', 'guess', 'warp', 'sense', 'humour', 'throw', 'phone', 'jump', 'bed', 'streak', 'room', 'yank', 'door', 'open', 'mom', 'dad', 'nee', 'borrow', 'cell', 'phone', 'emergency', 'shout', 'care', 'wake', 'house', 'hate', 'karma', 'nooooooo', 'shout', 'sit', 'hit', 'button', 'angrily', 'try', 'come', 'happen', 'right', 'happen', 'right', 'moment', 'damn', 'guy', 'catch', 'break', 'confuse', 'look', 'phone', 'screen', 'black', 'hell', 'press', 'button', 'happen', 'freak', 'god', 'battery', 'run', 'silence', 'rise', 'silence', 'wait', 'continue', 'frown', 'slip', 'prompt', 'giggle', 'actually', 'mention', 'player', 'warm', 'maybe', 'slip', 'turn', 'game', 'nate', 'drop', 'ball', 'concentrate', 'think', 'feel', 'hot', 'right', 'wait', 'minute', 'soon', 'pantie', 'murmur', 'lustfully', 'actually', 'picture', 'good', 'imagination', 'perfect', 'thing', 'like', 'girl', 'choose', 'choose', 'hot', 'little', 'kinky', 'girl', 'luck', 'well', 'right', 'pump', 'air', 'fist', 'look', 'ceiling', 'silently', 'mouth', 'thank', 'certainly', 'watch', 'right', 'giggle', 'actually', 'pretty', 'hot', 'tonight', 'sleep', 'tiny', 'pair', 'pink', 'lacy', 'pantie', 'skin', 'tight', 'pink', 'tank', 'nate', 'wear', 'right', 'purr', 'sound', 'seductive', 'barely', 'stand', 'sure', 'want', 'mumble', 'actually', 'cross', 'finger', 'agree', 'way', 'seriously', 'happen', 'asleep', 'dream', 'girlfriend', 'seriously', 'consider', 'phone', 'flop', 'bed', 'close', 'eye', 'thousand', 'image', 'bombard', 'brain', 'holy', 'cke', 'hit', 'right', 'phone', 'ask', 'sound', 'excite', 'trace', 'sleep', 'voice', 'wait', 'actually', 'consider', 'realise', 'joke', 'nee', 'quickly', 'right', 'apologise', 'ask', 'pretend', 'like', 'sit', 'gulp', 'start', 'panic', 'open', 'mouth', 'apologise', 'speak', 'damn', 'freak', 'moron', 'slap', 'palm', 'forehead', 'angrily', 'grit', 'tooth', 'silence', 'end', 'line', 'feel', 'smile', 'fall', 'face', 'shit', 'push', 'far', 'drink', 'remember', 'case', 'think', 'kinky', 'pervert', 'right', 'scar', 'away', 'talk', 'dirty', 'try', 'laugh', 'mimic', 'word', 'night', 'yeah', 'grin', 'bed', 'time', 'perfect', 'tease', 'try', 'contain', 'excitement', 'rosie', 'laugh', 'consider', 'wake', 'wear', 'pyjama', 'answer', 'playfully', 'grin', 'girlfriend', 'damn', 'awesome', 'allow', 'wake', 'midnight', 'care', 'sweet', 'chirp', 'time', 'fun', 'drop', 'voice', 'try', 'sound', 'sexy', 'wear', 'awake', 'easily', 'want', 'let', 'sleep', 'ask', 'pray', 'talk', 'minute', 'laugh', 'quietly', 'goodnight', 'nate', 'joke', 'pretend', 'hang', 'flick', 'eye', 'alarm', 'clock', 'wince', 'slightly', 'sound', 'angry', 'yeah', 'feel', 'little', 'bad', 'fact', 'wake', 'speak', 'hour', 'nee', 'hear', 'voice', 'sleep', 'sorry', 'want', 'goodnight', 'nate', 'know', 'time', 'ask', 'voice', 'husky', 'thick', 'sleep', 'close', 'eye', 'hop', 'yes', 'instead', 'texte', 'grin', 'number', 'flash', 'screen', 'picture', 'appear', 'mouth', 'water', 'usual', 'strip', 'awake', 'send', 'decide', 'text', 'reply', 'hopefully', 'awake', 'text', 'likely', 'wake', 'shout', 'sit', 'edge', 'bed', 'fight', 'want', 'speak', 'speak', 'morning', 'text', 'twice', 'sort', 'pussy', 'whip', 'withdrawal', 'state', 'guy', 'bed', 'morning', 'jog', 'house', 'late', 'wake', 'bad', 'kill', 'sure', 'walk', 'straight', 'hannah', 'look', 'hopefully', 'small', 'nod', 'approval', 'glance', 'watch', 'time', 'midnight', 'jump', 'slightly', 'panic', 'realise', 'late', 'desperate', 'speak', 'rosie', 'laugh', 'way', 'round', 'corner', 'girl', 'watch', 'curiously', 'remember', 'forget', 'important', 'smile', 'lean', 'closer', 'robert', 'sister', 'pregnant', 'tear', 'ball', 'shove', 'throat', 'ask', 'smile', 'hannah', 'know', 'threaten', 'gulp', 'nod', 'pat', 'awesome', 'glad', 'understand', 'laugh', 'yeah', 'use', 'eventually', 'assure', 'nod', 'door', 'know', 'leave', 'come', 'let', 'long', 'hannah', 'use', 'screechy', 'voice', 'ear', 'bleed', 'laugh', 'nervously', 'right', 'know', 'hannah', 'sense', 'humour', 'nod', 'relax', 'grip', 'shoulder', 'good', 'hide', 'body', 'forte', 'joke', 'nod', 'like', 'sister', 'nate', 'quietly', 'gulp', 'eye', 'twitch', 'slightly', 'shift', 'foot', 'assess', 'run', 'want', 'sister', 'threate', 'maybe', 'deserve', 'like', 'fairly', 'nice', 'guy', 'allow', 'continue', 'sister', 'nod', 'slowly', 'watch', 'face', 'relax', 'slightly', 'feel', 'try', 'away', 'hannah', 'kick', 'ass', 'suit', 'add', 'raise', 'eyebrow', 'leave', 'think', 'thank', 'train', 'shoot', 'dead', 'hundred', 'yard', 'away', 'try', 'run', 'find', 'resource', 'comprehension', 'hurt', 'sister', 'swear', 'hunt', 'tear', 'limb', 'limb', 'watch', 'bleed', 'death', 'dramatic', 'know', 'need', 'understand', 'shift', 'foot', 'nervously', 'stand', 'walk', 'close', 'eye', 'flick', 'door', 'suddenly', 'wonder', 'hannah', 'tell', 'look', 'terrify', 'probably', 'tell', 'hurt', 'right', 'mutter', 'sarcastically', 'shake', 'head', 'stutter', 'sound', 'like', 'question', 'yes', 'sex', 'little', 'sister', 'great', 'thing', 'worry', 'pregnancy', 'guess', 'mom', 'department', 'let', 'deal', 'hannah', 'yeah', 'worry', 'baby', 'sister', 'want', 'dirty', 'hand', 'hell', 'maybe', 'dirty', 'hand', 'suggest', 'flick', 'eye', 'face', 'robert', 'nod', 'eye', 'flick', 'door', 'yeah', 'want', 'know', 'like', 'sister', 'like', 'long', 'time', 'want', 'need', 'worry', 'trail', 'watch', 'tap', 'hammer', 'palm', 'hand', 'try', 'look', 'thoughtful', 'laugh', 'let', 'know', 'wood', 'right', 'ask', 'cock', 'head', 'sit', 'counter', 'play', 'dad', 'hammer', 'leave', 'wood', 'store', 'ask', 'politely', 'nod', 'stand', 'look', 'slightly', 'pale', 'sure', 'drop', 'conversation', 'tonight', 'thing', 'job', 'look', 'face', 'know', 'live', 'definitely', 'scar', 'match', 'pace', 'walk', 'workshop', 'step', 'door', 'stop', 'look', 'curiously', 'smirk', 'happen', 'approval', 'need', 'quiet', 'workshop', 'round', 'way', 'dad', 'replace', 'tomorrow', 'right', 'robert', 'ask', 'raise', 'eyebrow', 'hannah', 'shake', 'head', 'fiercely', 'plenty', 'wood', 'right', 'nate', 'hiss', 'nod', 'basket', 'table', 'right', 'think', 'time', 'talk', 'little', 'punk', 'girl', 'hey', 'robert', 'want', 'help', 'wood', 'burner', 'ask', 'nod', 'open', 'fire', 'patio', 'couple', 'hour', 'laugh', 'joke', 'parent', 'stand', 'right', 'bed', 'dad', 'smirk', 'mom', 'smile', 'eww', 'parent', 'gross', 'shudder', 'try', 'mental', 'picture', 'look', 'paige', 'time', 'shudder', 'alike', 'nod', 'gratefully', 'watch', 'pull', 'grill', 'pair', 'whisper', 'hannah', 'shoot', 'little', 'glance', 'warn', 'behave', 'rest', 'night', 'watch', 'smile', 'hold', 'hand', 'giggle', 'blush', 'lot', 'common', 'student', 'college', 'friend', 'month', 'want', 'hannah', 'clear', 'throat', 'food', 'robert', 'hungry', 'ask', 'obviously', 'try', 'ease', 'tension', 'air', 'yeah', 'nod', 'gulp', 'nod', 'yeah', 'nate', 'right', 'hear', 'lot', 'quietly', 'due', 'look', 'eye', 'couple', 'second', 'look', 'away', 'nervously', 'robert', 'ask', 'look', 'slowly', 'sneaker', 'wrinkle', 'shirt', 'effort', 'han', 'hell', 'earth', 'idiot', 'face', 'kiss', 'leap', 'chair', 'clear', 'throat', 'warningly', 'pull', 'paige', 'lisa', 'start', 'giggle', 'watch', 'hey', 'han', 'answer', 'smile', 'affectionately', 'table', 'hannah', 'smile', 'reassuringly', 'walk', 'hand', 'hey', 'robert', 'voice', 'little', 'tight', 'hurt', 'turn', 'seat', 'guy', 'early', 'twenty', 'walk', 'small', 'scar', 'expression', 'face', 'average', 'build', 'brown', 'hair', 'kind', 'messy', 'look', 'like', 'student', 'suddenly', 'dawn', 'little', 'punk', 'dare', 'date', 'little', 'sister', 'seriously', 'bad', 'mood', 'suddenly', 'corner', 'eye', 'see', 'hannah', 'stop', 'laugh', 'sit', 'straight', 'chair', 'look', 'shoulder', 'eye', 'drift', 'hurt', 'beg', 'look', 'pleadingly', 'laugh', 'hard', 'shake', 'head', 'nate', 'wish', 'come', 'wistfully', 'pull', 'piece', 'lettuce', 'burger', 'throw', 'scowl', 'eld', 'girl', 'responsible', 'pen', 'paige', 'moan', 'clutch', 'stomach', 'stop', 'talk', 'laugh', 'anymore', 'hurt', 'complain', 'chuckle', 'narrow', 'eye', 'accusingly', 'later', 'asleep', 'plan', 'nee', 'wait', 'expect', 'turn', 'adorable', 'love', 'sweet', 'sister', 'grab', 'pen', 'random', 'lisa', 'apparently', 'design', 'rosie', 'bitch', 'slogan', 'arrow', 'point', 'crotch', 'unfortunately', 'grab', 'black', 'sharpie', 'freak', 'awesome', 'guy', 'rip', 'shre', 'work', 'monday', 'see', 'sigh', 'manage', 'choose', 'washable', 'pen', 'come', 'monday', 'whine', 'know', 'sound', 'like', 'little', 'girl', 'care', 'shrug', 'look', 'apologetically', 'sorry', 'groan', 'rub', 'stomach', 'absentmindedly', 'believe', 'check', 'lisa', 'grumble', 'hundredth', 'time', 'time', 'nighttime', 'come', 'hurt', 'laugh', 'dad', 'cook', 'outdoor', 'grill', 'decide', 'stay', 'outside', 'eat', 'tell', 'cop', 'paige', 'joke', 'kick', 'water', 'face', 'grab', 'ankle', 'yank', 'water', 'payback', 'hardly', 'fair', 'shout', 'laugh', 'break', 'surface', 'water', 'person', 'dunk']\n"
          ],
          "name": "stdout"
        }
      ]
    },
    {
      "cell_type": "code",
      "metadata": {
        "id": "PHAVwaoERN28",
        "colab": {
          "base_uri": "https://localhost:8080/"
        },
        "outputId": "ecf0fb11-82c6-4606-f368-56bb42a2f63d"
      },
      "source": [
        "results = similiarity_query(query,doc2vec_model)\n",
        "results"
      ],
      "execution_count": null,
      "outputs": [
        {
          "output_type": "execute_result",
          "data": {
            "text/plain": [
              "[(54461, 0.7882322669029236),\n",
              " (44831, 0.49452969431877136),\n",
              " (32602, 0.4581599533557892),\n",
              " (17603, 0.45739981532096863),\n",
              " (6384, 0.45655691623687744),\n",
              " (36038, 0.4527413249015808)]"
            ]
          },
          "metadata": {
            "tags": []
          },
          "execution_count": 78
        }
      ]
    },
    {
      "cell_type": "code",
      "metadata": {
        "colab": {
          "base_uri": "https://localhost:8080/",
          "height": 746
        },
        "id": "2oudnBhPDAK7",
        "outputId": "ca98a911-9570-4105-e7c8-89150e9b6d43"
      },
      "source": [
        "%unload_ext google.colab.data_table\n",
        "pd.set_option('display.max_rows', 500)\n",
        "pd.set_option('display.max_columns', 5000)\n",
        "\n",
        "x = pd.DataFrame(text_df['DocText'].loc[text_df.DocID.isin(['54461','44831','32602','17603','6384','36038'])])\n",
        "x"
      ],
      "execution_count": null,
      "outputs": [
        {
          "output_type": "stream",
          "text": [
            "The google.colab.data_table extension is not loaded.\n"
          ],
          "name": "stdout"
        },
        {
          "output_type": "execute_result",
          "data": {
            "text/html": [
              "<div>\n",
              "<style scoped>\n",
              "    .dataframe tbody tr th:only-of-type {\n",
              "        vertical-align: middle;\n",
              "    }\n",
              "\n",
              "    .dataframe tbody tr th {\n",
              "        vertical-align: top;\n",
              "    }\n",
              "\n",
              "    .dataframe thead th {\n",
              "        text-align: right;\n",
              "    }\n",
              "</style>\n",
              "<table border=\"1\" class=\"dataframe\">\n",
              "  <thead>\n",
              "    <tr style=\"text-align: right;\">\n",
              "      <th></th>\n",
              "      <th>DocText</th>\n",
              "    </tr>\n",
              "  </thead>\n",
              "  <tbody>\n",
              "    <tr>\n",
              "      <th>3</th>\n",
              "      <td>I caught up with Lisa quickly and grabbed her, throwing her over my shoulder while she thrashed and screamed, laughing her ass off. Hannah was taunting me getting teasingly close so I snapped my hand out and clamped it around her wrist, making her squeal. I carried Lisa and dragged Hannah into the water and then threw Lisa in, laughing as she coughed and spluttered, wiping water out of her face. She grinned at me and grabbed my hand pulling me into the water too and before I knew what was happening the other two girls jumped on me too. I heard my mom shout back, still laughing. “You girls knew this would happen, you deal with the consequences!”  I burst out laughing. Well I guess that’s what I get for falling asleep in front of three Peters girls, I should have known better! “You’d better run!” I shouted, streaking after one of them at random. It turned out to be Lisa so I smiled and pushed myself after her, making her scream at my mom for help, “Mom! Make him leave me alone!”  The...</td>\n",
              "    </tr>\n",
              "    <tr>\n",
              "      <th>562</th>\n",
              "      <td>“You know most girls would be mad that they were thrown into a muddy lake.” Kyle said when I came up.   “No I'm not.” I protested .  “One day I will make you realize that you are better than you think, but until then will you have dinner with me and my family?” He said shaking his head.  “Of course Big Bad Alpha.” I jokingly answered.  “I'll show you big and bad. Hold your breath.” Ky sad picking me up and throwing me across the lake. I came up laughing .  “Well if you two love birds are done I'm starving.” I hear from the left of me. I didn't even have to look to know it was Miles. I looked over Kyle's shoulder to see Miles standing there uninjured beside his arm in a sling. Miles must have saw me looking at it and said, “Don't worry it will be healed by the morning,” Miles always knew how to reassure me.  “Lets go eat dinner.” Kyle said letting me jump on his back. As we got out of the lake Miles handed us a towel and we walked back inside to eat dinner.   Sitting at the table wa...</td>\n",
              "    </tr>\n",
              "    <tr>\n",
              "      <th>690</th>\n",
              "      <td>Right? I said. \"Well, we were together this weekend,\" she smiled,\"AndyouknowIreallylikehim!\" she said so fast that her words were all jumbled.. I rolled my eyes and ignored what she just said. He used her the first time, what makes her think he is going to change this time? I really hope she knows what she is doing. \"Say something!\" she frowned. \"Something!\" I said flatly. I shouldn't be mad at her, it is her choice and she can do whatever she wants to do. \"Seriously,\" she sighed,\"You are my best friend and you should be happy with whatever decision I make!\" she pouted. That face doesn't work anymore, but she is right. \"Fine, you're right!\" I sighed,\"Just be careful!\" I warned. She has no idea what she is getting herself into. Speaking of the devil, Kyle and his buddies were heading our way. ~ \"Why are you always so early to class?\" I heard from behind me. I smiled at the sound of his voice. Ethan pushed the door shut, stopping me from entering. \"The only way you would know that is...</td>\n",
              "    </tr>\n",
              "    <tr>\n",
              "      <th>729</th>\n",
              "      <td>Any guys? he asked, this time looking clearly amused. \"Nothing really...there's some good book stores around I like to go to\" I say, not glancing up once to see the smug look on his face. I continued to move around my food, mixing the scrambled eggs with the ketchup. \"I'm done\" he stated to both of us and slammed the door shut, leaving Gwen and I all alone. \"I'm going out\" I said standing from the kitchen table. I grabbed my bag from the coat rack. \"So what have you been up to these past 7 months?\" he questioned pointing his spoon in my direction. \"Must be!\" my sister said scooping her scrambled eggs in a heap and bringing it to her mouth. \"It felt pretty amazing, you know there was a rush of adrenaline but the feeling of knowing you might not come back alive is...a bit scary.\" \"Your dying one minute at a time\" continued to play through my head during the entire night and throughout breakfast. He talked about his experience in Afghanistan for what seemed like hours but his previous...</td>\n",
              "    </tr>\n",
              "    <tr>\n",
              "      <th>831</th>\n",
              "      <td>HEY GUYS!!! Ok, this is my first book and I'm really just experimenting.. I don't know how often I will add more and where this book is going, I'm just going to type until I've finished it. it would be great if i could get feed back from you all! ;) hope you enjoy it! Chapter One- Goodbye AustraliaI flew my eyes open, allowing them to search around my once quiet room. 'BANG!' There it was again. My eyes darted left to right until they fell upon my door where I saw two paws shadowing at the crack of the bottom of it. I felt relief flood into me as I realised it was only TP. I rolled over and saw the sun streaming through the cracks of my dust covered blinds, it looked so warm like a perfect summers day, although I knew that was too good to be true. I then looked down and stared at my favourite purple suitcase that lay there unzipped on my messy floor, with all it's contents spilling out. \"Today's the day.\" I thought out loud. I was going to boarding school. I have been dreading this...</td>\n",
              "    </tr>\n",
              "    <tr>\n",
              "      <th>878</th>\n",
              "      <td>Breakfast in bed, ma announced the obvious. \"Oh, we do spoil you.\"    Ma pushed open the door with a tray, singing happy birthday. I knew dad was getting my present from downstairs. Lindsay had come home from college specially to celebrate my birthday.    Nate was the only one not home. I had planned our reunion for god knows how long, and he had gone and spoilt it.    I had a feeling they were all keeping something from me. But I didn't say any more. They, like Nate, had just been back from the one-year-war, and they needed some rest. With their girlfriends.    The war had ended - a short but cruel war. My boyfriend, Nate, was meant to be back from the army a week ago. I'd been questioning his friends about the delay, but they said it was just 'army traffic'.    Except I couldn't relax.    Se-ven-teen. I tasted the word on my tongue. It was the age between two milestones - sixteen and eighteen. Wedging itself in between the two most important ages. I was glad it was there because,...</td>\n",
              "    </tr>\n",
              "  </tbody>\n",
              "</table>\n",
              "</div>"
            ],
            "text/plain": [
              "                                                                                                                                                                                                                                                                                                                                                                                                                                                                                                                                                                                                                                                                                                                                                                                                                                                                                                                                                                                                                                     DocText\n",
              "3    I caught up with Lisa quickly and grabbed her, throwing her over my shoulder while she thrashed and screamed, laughing her ass off. Hannah was taunting me getting teasingly close so I snapped my hand out and clamped it around her wrist, making her squeal. I carried Lisa and dragged Hannah into the water and then threw Lisa in, laughing as she coughed and spluttered, wiping water out of her face. She grinned at me and grabbed my hand pulling me into the water too and before I knew what was happening the other two girls jumped on me too. I heard my mom shout back, still laughing. “You girls knew this would happen, you deal with the consequences!”  I burst out laughing. Well I guess that’s what I get for falling asleep in front of three Peters girls, I should have known better! “You’d better run!” I shouted, streaking after one of them at random. It turned out to be Lisa so I smiled and pushed myself after her, making her scream at my mom for help, “Mom! Make him leave me alone!”  The...\n",
              "562  “You know most girls would be mad that they were thrown into a muddy lake.” Kyle said when I came up.   “No I'm not.” I protested .  “One day I will make you realize that you are better than you think, but until then will you have dinner with me and my family?” He said shaking his head.  “Of course Big Bad Alpha.” I jokingly answered.  “I'll show you big and bad. Hold your breath.” Ky sad picking me up and throwing me across the lake. I came up laughing .  “Well if you two love birds are done I'm starving.” I hear from the left of me. I didn't even have to look to know it was Miles. I looked over Kyle's shoulder to see Miles standing there uninjured beside his arm in a sling. Miles must have saw me looking at it and said, “Don't worry it will be healed by the morning,” Miles always knew how to reassure me.  “Lets go eat dinner.” Kyle said letting me jump on his back. As we got out of the lake Miles handed us a towel and we walked back inside to eat dinner.   Sitting at the table wa...\n",
              "690  Right? I said. \"Well, we were together this weekend,\" she smiled,\"AndyouknowIreallylikehim!\" she said so fast that her words were all jumbled.. I rolled my eyes and ignored what she just said. He used her the first time, what makes her think he is going to change this time? I really hope she knows what she is doing. \"Say something!\" she frowned. \"Something!\" I said flatly. I shouldn't be mad at her, it is her choice and she can do whatever she wants to do. \"Seriously,\" she sighed,\"You are my best friend and you should be happy with whatever decision I make!\" she pouted. That face doesn't work anymore, but she is right. \"Fine, you're right!\" I sighed,\"Just be careful!\" I warned. She has no idea what she is getting herself into. Speaking of the devil, Kyle and his buddies were heading our way. ~ \"Why are you always so early to class?\" I heard from behind me. I smiled at the sound of his voice. Ethan pushed the door shut, stopping me from entering. \"The only way you would know that is...\n",
              "729  Any guys? he asked, this time looking clearly amused. \"Nothing really...there's some good book stores around I like to go to\" I say, not glancing up once to see the smug look on his face. I continued to move around my food, mixing the scrambled eggs with the ketchup. \"I'm done\" he stated to both of us and slammed the door shut, leaving Gwen and I all alone. \"I'm going out\" I said standing from the kitchen table. I grabbed my bag from the coat rack. \"So what have you been up to these past 7 months?\" he questioned pointing his spoon in my direction. \"Must be!\" my sister said scooping her scrambled eggs in a heap and bringing it to her mouth. \"It felt pretty amazing, you know there was a rush of adrenaline but the feeling of knowing you might not come back alive is...a bit scary.\" \"Your dying one minute at a time\" continued to play through my head during the entire night and throughout breakfast. He talked about his experience in Afghanistan for what seemed like hours but his previous...\n",
              "831  HEY GUYS!!! Ok, this is my first book and I'm really just experimenting.. I don't know how often I will add more and where this book is going, I'm just going to type until I've finished it. it would be great if i could get feed back from you all! ;) hope you enjoy it! Chapter One- Goodbye AustraliaI flew my eyes open, allowing them to search around my once quiet room. 'BANG!' There it was again. My eyes darted left to right until they fell upon my door where I saw two paws shadowing at the crack of the bottom of it. I felt relief flood into me as I realised it was only TP. I rolled over and saw the sun streaming through the cracks of my dust covered blinds, it looked so warm like a perfect summers day, although I knew that was too good to be true. I then looked down and stared at my favourite purple suitcase that lay there unzipped on my messy floor, with all it's contents spilling out. \"Today's the day.\" I thought out loud. I was going to boarding school. I have been dreading this...\n",
              "878  Breakfast in bed, ma announced the obvious. \"Oh, we do spoil you.\"    Ma pushed open the door with a tray, singing happy birthday. I knew dad was getting my present from downstairs. Lindsay had come home from college specially to celebrate my birthday.    Nate was the only one not home. I had planned our reunion for god knows how long, and he had gone and spoilt it.    I had a feeling they were all keeping something from me. But I didn't say any more. They, like Nate, had just been back from the one-year-war, and they needed some rest. With their girlfriends.    The war had ended - a short but cruel war. My boyfriend, Nate, was meant to be back from the army a week ago. I'd been questioning his friends about the delay, but they said it was just 'army traffic'.    Except I couldn't relax.    Se-ven-teen. I tasted the word on my tongue. It was the age between two milestones - sixteen and eighteen. Wedging itself in between the two most important ages. I was glad it was there because,..."
            ]
          },
          "metadata": {
            "tags": []
          },
          "execution_count": 109
        }
      ]
    },
    {
      "cell_type": "markdown",
      "metadata": {
        "id": "8Y7gtDH60-jV"
      },
      "source": [
        "## Evaluation"
      ]
    },
    {
      "cell_type": "code",
      "metadata": {
        "id": "pazU3SIyznh2"
      },
      "source": [
        "ranks = []\n",
        "second_ranks = []\n",
        "for doc_id in range(len(tagged_docs)):\n",
        "    inferred_vector = doc2vec_model.infer_vector(tagged_docs[doc_id].words)\n",
        "    sims = doc2vec_model.docvecs.most_similar([inferred_vector], topn=len(doc2vec_model.docvecs))\n",
        "    rank = [docid for docid, sim in sims].index(doc_id)\n",
        "    ranks.append(rank)\n",
        "\n",
        "    second_ranks.append(sims[1])"
      ],
      "execution_count": null,
      "outputs": []
    },
    {
      "cell_type": "code",
      "metadata": {
        "id": "-5qOOrS_Inz5",
        "colab": {
          "base_uri": "https://localhost:8080/"
        },
        "outputId": "a53a4f9b-ac53-4351-fa0c-ce37db8c4045"
      },
      "source": [
        "#count how each document ranks with respect to the training corpus\n",
        "counter = collections.Counter(ranks)\n",
        "print(counter)\n",
        "counter.most_common()\n",
        "\n",
        "#9/997 have very close document similiarities similiarities"
      ],
      "execution_count": null,
      "outputs": [
        {
          "output_type": "execute_result",
          "data": {
            "text/plain": [
              "[(70654, 2),\n",
              " (80884, 2),\n",
              " (55690, 2),\n",
              " (1468, 2),\n",
              " (68366, 2),\n",
              " (3166, 1),\n",
              " (33751, 1),\n",
              " (83506, 1),\n",
              " (77659, 1),\n",
              " (81386, 1),\n",
              " (62865, 1),\n",
              " (71331, 1),\n",
              " (25530, 1),\n",
              " (44285, 1),\n",
              " (84167, 1),\n",
              " (49428, 1),\n",
              " (74315, 1),\n",
              " (68493, 1),\n",
              " (75641, 1),\n",
              " (42277, 1),\n",
              " (76755, 1),\n",
              " (63875, 1),\n",
              " (43617, 1),\n",
              " (35963, 1),\n",
              " (32134, 1),\n",
              " (65159, 1),\n",
              " (13118, 1),\n",
              " (34808, 1),\n",
              " (63876, 1),\n",
              " (4893, 1),\n",
              " (13994, 1),\n",
              " (42331, 1),\n",
              " (39165, 1),\n",
              " (51601, 1),\n",
              " (51034, 1),\n",
              " (24444, 1),\n",
              " (56390, 1),\n",
              " (14123, 1),\n",
              " (98258, 1),\n",
              " (73052, 1),\n",
              " (2780, 1),\n",
              " (57353, 1),\n",
              " (56185, 1),\n",
              " (81544, 1),\n",
              " (68105, 1),\n",
              " (50074, 1),\n",
              " (16480, 1),\n",
              " (20652, 1),\n",
              " (88965, 1),\n",
              " (10130, 1),\n",
              " (50418, 1),\n",
              " (68989, 1),\n",
              " (96513, 1),\n",
              " (44994, 1),\n",
              " (5153, 1),\n",
              " (30096, 1),\n",
              " (53585, 1),\n",
              " (76398, 1),\n",
              " (79473, 1),\n",
              " (43076, 1),\n",
              " (47048, 1),\n",
              " (34963, 1),\n",
              " (25692, 1),\n",
              " (21777, 1),\n",
              " (85426, 1),\n",
              " (15939, 1),\n",
              " (29234, 1),\n",
              " (94652, 1),\n",
              " (65075, 1),\n",
              " (30563, 1),\n",
              " (43320, 1),\n",
              " (80204, 1),\n",
              " (16327, 1),\n",
              " (74502, 1),\n",
              " (74290, 1),\n",
              " (25286, 1),\n",
              " (91925, 1),\n",
              " (35006, 1),\n",
              " (54399, 1),\n",
              " (52502, 1),\n",
              " (34249, 1),\n",
              " (45958, 1),\n",
              " (34158, 1),\n",
              " (25526, 1),\n",
              " (9327, 1),\n",
              " (26021, 1),\n",
              " (54386, 1),\n",
              " (47777, 1),\n",
              " (84548, 1),\n",
              " (74370, 1),\n",
              " (64958, 1),\n",
              " (43005, 1),\n",
              " (21029, 1),\n",
              " (22388, 1),\n",
              " (28331, 1),\n",
              " (68354, 1),\n",
              " (86166, 1),\n",
              " (88686, 1),\n",
              " (573, 1),\n",
              " (47663, 1),\n",
              " (21712, 1),\n",
              " (34991, 1),\n",
              " (78664, 1),\n",
              " (19090, 1),\n",
              " (48771, 1),\n",
              " (95933, 1),\n",
              " (52900, 1),\n",
              " (43139, 1),\n",
              " (34001, 1),\n",
              " (60797, 1),\n",
              " (74676, 1),\n",
              " (89323, 1),\n",
              " (60665, 1),\n",
              " (8302, 1),\n",
              " (18663, 1),\n",
              " (78599, 1),\n",
              " (6660, 1),\n",
              " (39870, 1),\n",
              " (12946, 1),\n",
              " (85200, 1),\n",
              " (9282, 1),\n",
              " (35907, 1),\n",
              " (31364, 1),\n",
              " (56023, 1),\n",
              " (90532, 1),\n",
              " (38640, 1),\n",
              " (19866, 1),\n",
              " (91854, 1),\n",
              " (67340, 1),\n",
              " (21588, 1),\n",
              " (57713, 1),\n",
              " (39818, 1),\n",
              " (52530, 1),\n",
              " (33390, 1),\n",
              " (26919, 1),\n",
              " (6133, 1),\n",
              " (21106, 1),\n",
              " (43950, 1),\n",
              " (4391, 1),\n",
              " (47876, 1),\n",
              " (9059, 1),\n",
              " (77526, 1),\n",
              " (93616, 1),\n",
              " (90855, 1),\n",
              " (15397, 1),\n",
              " (83783, 1),\n",
              " (21002, 1),\n",
              " (79310, 1),\n",
              " (30147, 1),\n",
              " (73720, 1),\n",
              " (14724, 1),\n",
              " (79657, 1),\n",
              " (14050, 1),\n",
              " (47314, 1),\n",
              " (53662, 1),\n",
              " (70413, 1),\n",
              " (74128, 1),\n",
              " (33947, 1),\n",
              " (73195, 1),\n",
              " (77805, 1),\n",
              " (61799, 1),\n",
              " (11259, 1),\n",
              " (15198, 1),\n",
              " (38494, 1),\n",
              " (52069, 1),\n",
              " (73729, 1),\n",
              " (98427, 1),\n",
              " (54730, 1),\n",
              " (78728, 1),\n",
              " (95229, 1),\n",
              " (94752, 1),\n",
              " (2640, 1),\n",
              " (25719, 1),\n",
              " (85164, 1),\n",
              " (33853, 1),\n",
              " (54792, 1),\n",
              " (84583, 1),\n",
              " (73250, 1),\n",
              " (90620, 1),\n",
              " (50299, 1),\n",
              " (8315, 1),\n",
              " (88869, 1),\n",
              " (51797, 1),\n",
              " (74665, 1),\n",
              " (56469, 1),\n",
              " (7250, 1),\n",
              " (95063, 1),\n",
              " (75674, 1),\n",
              " (76520, 1),\n",
              " (24267, 1),\n",
              " (86546, 1),\n",
              " (74442, 1),\n",
              " (63891, 1),\n",
              " (77607, 1),\n",
              " (20794, 1),\n",
              " (80126, 1),\n",
              " (29405, 1),\n",
              " (95442, 1),\n",
              " (68756, 1),\n",
              " (54678, 1),\n",
              " (48954, 1),\n",
              " (5726, 1),\n",
              " (81599, 1),\n",
              " (76235, 1),\n",
              " (97398, 1),\n",
              " (52521, 1),\n",
              " (49753, 1),\n",
              " (77577, 1),\n",
              " (13971, 1),\n",
              " (41553, 1),\n",
              " (99663, 1),\n",
              " (17319, 1),\n",
              " (38779, 1),\n",
              " (41208, 1),\n",
              " (69678, 1),\n",
              " (41017, 1),\n",
              " (64806, 1),\n",
              " (9632, 1),\n",
              " (55715, 1),\n",
              " (36680, 1),\n",
              " (79717, 1),\n",
              " (68459, 1),\n",
              " (90685, 1),\n",
              " (51110, 1),\n",
              " (82362, 1),\n",
              " (53719, 1),\n",
              " (53679, 1),\n",
              " (70742, 1),\n",
              " (25423, 1),\n",
              " (68315, 1),\n",
              " (83195, 1),\n",
              " (92052, 1),\n",
              " (20276, 1),\n",
              " (17127, 1),\n",
              " (75981, 1),\n",
              " (86124, 1),\n",
              " (99183, 1),\n",
              " (38753, 1),\n",
              " (50786, 1),\n",
              " (1042, 1),\n",
              " (64424, 1),\n",
              " (65685, 1),\n",
              " (20419, 1),\n",
              " (96188, 1),\n",
              " (16979, 1),\n",
              " (73082, 1),\n",
              " (63925, 1),\n",
              " (69002, 1),\n",
              " (29309, 1),\n",
              " (75387, 1),\n",
              " (53486, 1),\n",
              " (99339, 1),\n",
              " (86108, 1),\n",
              " (92060, 1),\n",
              " (10773, 1),\n",
              " (744, 1),\n",
              " (28744, 1),\n",
              " (18668, 1),\n",
              " (5714, 1),\n",
              " (48199, 1),\n",
              " (28513, 1),\n",
              " (4478, 1),\n",
              " (59581, 1),\n",
              " (96834, 1),\n",
              " (88237, 1),\n",
              " (38472, 1),\n",
              " (90400, 1),\n",
              " (35252, 1),\n",
              " (11720, 1),\n",
              " (55909, 1),\n",
              " (79229, 1),\n",
              " (45961, 1),\n",
              " (71591, 1),\n",
              " (1548, 1),\n",
              " (62097, 1),\n",
              " (66055, 1),\n",
              " (66357, 1),\n",
              " (23668, 1),\n",
              " (80795, 1),\n",
              " (59801, 1),\n",
              " (79241, 1),\n",
              " (60110, 1),\n",
              " (47659, 1),\n",
              " (2320, 1),\n",
              " (91092, 1),\n",
              " (64957, 1),\n",
              " (38787, 1),\n",
              " (35202, 1),\n",
              " (92557, 1),\n",
              " (10018, 1),\n",
              " (12686, 1),\n",
              " (64409, 1),\n",
              " (78787, 1),\n",
              " (47502, 1),\n",
              " (59177, 1),\n",
              " (71340, 1),\n",
              " (88326, 1),\n",
              " (37879, 1),\n",
              " (45415, 1),\n",
              " (72044, 1),\n",
              " (85432, 1),\n",
              " (44361, 1),\n",
              " (69646, 1),\n",
              " (17844, 1),\n",
              " (8743, 1),\n",
              " (68114, 1),\n",
              " (26752, 1),\n",
              " (29160, 1),\n",
              " (61142, 1),\n",
              " (90063, 1),\n",
              " (41584, 1),\n",
              " (12870, 1),\n",
              " (90006, 1),\n",
              " (25275, 1),\n",
              " (5746, 1),\n",
              " (87157, 1),\n",
              " (86595, 1),\n",
              " (69855, 1),\n",
              " (69825, 1),\n",
              " (34072, 1),\n",
              " (12865, 1),\n",
              " (47819, 1),\n",
              " (69822, 1),\n",
              " (69588, 1),\n",
              " (31123, 1),\n",
              " (24254, 1),\n",
              " (9533, 1),\n",
              " (58394, 1),\n",
              " (21733, 1),\n",
              " (14062, 1),\n",
              " (41926, 1),\n",
              " (20216, 1),\n",
              " (34034, 1),\n",
              " (54396, 1),\n",
              " (18012, 1),\n",
              " (62707, 1),\n",
              " (46680, 1),\n",
              " (63283, 1),\n",
              " (10327, 1),\n",
              " (68131, 1),\n",
              " (20587, 1),\n",
              " (84152, 1),\n",
              " (62475, 1),\n",
              " (74931, 1),\n",
              " (27823, 1),\n",
              " (98594, 1),\n",
              " (23422, 1),\n",
              " (65325, 1),\n",
              " (98683, 1),\n",
              " (13172, 1),\n",
              " (64021, 1),\n",
              " (60405, 1),\n",
              " (93186, 1),\n",
              " (42398, 1),\n",
              " (67424, 1),\n",
              " (81040, 1),\n",
              " (83338, 1),\n",
              " (80716, 1),\n",
              " (10914, 1),\n",
              " (68220, 1),\n",
              " (91663, 1),\n",
              " (47723, 1),\n",
              " (43453, 1),\n",
              " (26087, 1),\n",
              " (77213, 1),\n",
              " (18053, 1),\n",
              " (91295, 1),\n",
              " (10094, 1),\n",
              " (73136, 1),\n",
              " (854, 1),\n",
              " (45649, 1),\n",
              " (87603, 1),\n",
              " (54989, 1),\n",
              " (54122, 1),\n",
              " (24189, 1),\n",
              " (96342, 1),\n",
              " (95426, 1),\n",
              " (83650, 1),\n",
              " (39589, 1),\n",
              " (17470, 1),\n",
              " (2459, 1),\n",
              " (37827, 1),\n",
              " (82088, 1),\n",
              " (61526, 1),\n",
              " (52234, 1),\n",
              " (33316, 1),\n",
              " (43961, 1),\n",
              " (15403, 1),\n",
              " (73473, 1),\n",
              " (59827, 1),\n",
              " (5314, 1),\n",
              " (15648, 1),\n",
              " (6588, 1),\n",
              " (31177, 1),\n",
              " (45275, 1),\n",
              " (62577, 1),\n",
              " (73662, 1),\n",
              " (53588, 1),\n",
              " (31066, 1),\n",
              " (97894, 1),\n",
              " (85025, 1),\n",
              " (41334, 1),\n",
              " (82341, 1),\n",
              " (59060, 1),\n",
              " (46074, 1),\n",
              " (43165, 1),\n",
              " (69188, 1),\n",
              " (8190, 1),\n",
              " (92589, 1),\n",
              " (3433, 1),\n",
              " (20078, 1),\n",
              " (53686, 1),\n",
              " (62624, 1),\n",
              " (77994, 1),\n",
              " (61041, 1),\n",
              " (18305, 1),\n",
              " (26130, 1),\n",
              " (82510, 1),\n",
              " (98277, 1),\n",
              " (85737, 1),\n",
              " (1796, 1),\n",
              " (66497, 1),\n",
              " (99295, 1),\n",
              " (57906, 1),\n",
              " (29489, 1),\n",
              " (33425, 1),\n",
              " (35701, 1),\n",
              " (69943, 1),\n",
              " (54608, 1),\n",
              " (88070, 1),\n",
              " (54241, 1),\n",
              " (3624, 1),\n",
              " (79083, 1),\n",
              " (62648, 1),\n",
              " (59688, 1),\n",
              " (96575, 1),\n",
              " (1211, 1),\n",
              " (54273, 1),\n",
              " (62386, 1),\n",
              " (67856, 1),\n",
              " (41743, 1),\n",
              " (85980, 1),\n",
              " (67523, 1),\n",
              " (29909, 1),\n",
              " (99349, 1),\n",
              " (26592, 1),\n",
              " (46729, 1),\n",
              " (46905, 1),\n",
              " (80402, 1),\n",
              " (54810, 1),\n",
              " (98297, 1),\n",
              " (3643, 1),\n",
              " (18527, 1),\n",
              " (32917, 1),\n",
              " (89524, 1),\n",
              " (47238, 1),\n",
              " (28014, 1),\n",
              " (34429, 1),\n",
              " (28173, 1),\n",
              " (13333, 1),\n",
              " (2257, 1),\n",
              " (36558, 1),\n",
              " (75730, 1),\n",
              " (69975, 1),\n",
              " (70681, 1),\n",
              " (5292, 1),\n",
              " (65227, 1),\n",
              " (84781, 1),\n",
              " (91845, 1),\n",
              " (80862, 1),\n",
              " (58184, 1),\n",
              " (77637, 1),\n",
              " (63486, 1),\n",
              " (39115, 1),\n",
              " (40982, 1),\n",
              " (50429, 1),\n",
              " (26834, 1),\n",
              " (30747, 1),\n",
              " (98355, 1),\n",
              " (34826, 1),\n",
              " (75796, 1),\n",
              " (77614, 1),\n",
              " (962, 1),\n",
              " (5284, 1),\n",
              " (42068, 1),\n",
              " (46611, 1),\n",
              " (18253, 1),\n",
              " (39390, 1),\n",
              " (9879, 1),\n",
              " (61162, 1),\n",
              " (52475, 1),\n",
              " (19824, 1),\n",
              " (61141, 1),\n",
              " (42129, 1),\n",
              " (14104, 1),\n",
              " (44299, 1),\n",
              " (9549, 1),\n",
              " (11507, 1),\n",
              " (43244, 1),\n",
              " (72387, 1),\n",
              " (55473, 1),\n",
              " (48566, 1),\n",
              " (26009, 1),\n",
              " (77361, 1),\n",
              " (31061, 1),\n",
              " (35437, 1),\n",
              " (87531, 1),\n",
              " (38614, 1),\n",
              " (75286, 1),\n",
              " (3797, 1),\n",
              " (19925, 1),\n",
              " (34490, 1),\n",
              " (30799, 1),\n",
              " (58131, 1),\n",
              " (24980, 1),\n",
              " (30806, 1),\n",
              " (36900, 1),\n",
              " (30586, 1),\n",
              " (23247, 1),\n",
              " (15386, 1),\n",
              " (12206, 1),\n",
              " (92519, 1),\n",
              " (45334, 1),\n",
              " (78250, 1),\n",
              " (45562, 1),\n",
              " (55079, 1),\n",
              " (62328, 1),\n",
              " (35988, 1),\n",
              " (22242, 1),\n",
              " (76787, 1),\n",
              " (38297, 1),\n",
              " (71973, 1),\n",
              " (72309, 1),\n",
              " (20526, 1),\n",
              " (30781, 1),\n",
              " (28495, 1),\n",
              " (44278, 1),\n",
              " (72169, 1),\n",
              " (28496, 1),\n",
              " (58415, 1),\n",
              " (1936, 1),\n",
              " (63052, 1),\n",
              " (43898, 1),\n",
              " (22948, 1),\n",
              " (49695, 1),\n",
              " (4951, 1),\n",
              " (22412, 1),\n",
              " (41077, 1),\n",
              " (43489, 1),\n",
              " (90750, 1),\n",
              " (28766, 1),\n",
              " (58324, 1),\n",
              " (94071, 1),\n",
              " (91619, 1),\n",
              " (72995, 1),\n",
              " (10916, 1),\n",
              " (12461, 1),\n",
              " (51174, 1),\n",
              " (35488, 1),\n",
              " (47216, 1),\n",
              " (58390, 1),\n",
              " (94650, 1),\n",
              " (76534, 1),\n",
              " (85571, 1),\n",
              " (48379, 1),\n",
              " (80122, 1),\n",
              " (6923, 1),\n",
              " (21279, 1),\n",
              " (59471, 1),\n",
              " (37335, 1),\n",
              " (64401, 1),\n",
              " (69423, 1),\n",
              " (26667, 1),\n",
              " (68961, 1),\n",
              " (96467, 1),\n",
              " (71068, 1),\n",
              " (91983, 1),\n",
              " (20748, 1),\n",
              " (58358, 1),\n",
              " (93094, 1),\n",
              " (59841, 1),\n",
              " (32581, 1),\n",
              " (67875, 1),\n",
              " (53482, 1),\n",
              " (87267, 1),\n",
              " (24566, 1),\n",
              " (23412, 1),\n",
              " (82521, 1),\n",
              " (69206, 1),\n",
              " (45505, 1),\n",
              " (83370, 1),\n",
              " (13649, 1),\n",
              " (26445, 1),\n",
              " (666, 1),\n",
              " (14114, 1),\n",
              " (43596, 1),\n",
              " (90287, 1),\n",
              " (73849, 1),\n",
              " (79265, 1),\n",
              " (47366, 1),\n",
              " (20633, 1),\n",
              " (34535, 1),\n",
              " (63307, 1),\n",
              " (62326, 1),\n",
              " (40271, 1),\n",
              " (99143, 1),\n",
              " (44853, 1),\n",
              " (87238, 1),\n",
              " (11310, 1),\n",
              " (97545, 1),\n",
              " (42428, 1),\n",
              " (5799, 1),\n",
              " (55139, 1),\n",
              " (30271, 1),\n",
              " (72073, 1),\n",
              " (71268, 1),\n",
              " (63757, 1),\n",
              " (11480, 1),\n",
              " (97470, 1),\n",
              " (5085, 1),\n",
              " (40453, 1),\n",
              " (76739, 1),\n",
              " (40840, 1),\n",
              " (19488, 1),\n",
              " (46505, 1),\n",
              " (7078, 1),\n",
              " (73020, 1),\n",
              " (69709, 1),\n",
              " (95747, 1),\n",
              " (56246, 1),\n",
              " (22764, 1),\n",
              " (27395, 1),\n",
              " (9330, 1),\n",
              " (87302, 1),\n",
              " (57443, 1),\n",
              " (60739, 1),\n",
              " (69204, 1),\n",
              " (27221, 1),\n",
              " (65797, 1),\n",
              " (8182, 1),\n",
              " (57162, 1),\n",
              " (95720, 1),\n",
              " (67212, 1),\n",
              " (3075, 1),\n",
              " (8043, 1),\n",
              " (27883, 1),\n",
              " (58025, 1),\n",
              " (62744, 1),\n",
              " (97978, 1),\n",
              " (92646, 1),\n",
              " (2798, 1),\n",
              " (52687, 1),\n",
              " (84240, 1),\n",
              " (92086, 1),\n",
              " (31414, 1),\n",
              " (71005, 1),\n",
              " (91487, 1),\n",
              " (77289, 1),\n",
              " (86625, 1),\n",
              " (95175, 1),\n",
              " (96259, 1),\n",
              " (58594, 1),\n",
              " (64704, 1),\n",
              " (8879, 1),\n",
              " (7476, 1),\n",
              " (50438, 1),\n",
              " (24748, 1),\n",
              " (15586, 1),\n",
              " (44216, 1),\n",
              " (81955, 1),\n",
              " (15286, 1),\n",
              " (38218, 1),\n",
              " (70430, 1),\n",
              " (71897, 1),\n",
              " (92743, 1),\n",
              " (98558, 1),\n",
              " (79546, 1),\n",
              " (40347, 1),\n",
              " (46622, 1),\n",
              " (33251, 1),\n",
              " (63561, 1),\n",
              " (17984, 1),\n",
              " (18244, 1),\n",
              " (79119, 1),\n",
              " (76335, 1),\n",
              " (29983, 1),\n",
              " (95304, 1),\n",
              " (45387, 1),\n",
              " (56255, 1),\n",
              " (86712, 1),\n",
              " (75564, 1),\n",
              " (92655, 1),\n",
              " (73565, 1),\n",
              " (41051, 1),\n",
              " (42459, 1),\n",
              " (59085, 1),\n",
              " (71643, 1),\n",
              " (79929, 1),\n",
              " (13909, 1),\n",
              " (51807, 1),\n",
              " (66860, 1),\n",
              " (46135, 1),\n",
              " (66041, 1),\n",
              " (18492, 1),\n",
              " (83681, 1),\n",
              " (71891, 1),\n",
              " (34187, 1),\n",
              " (75889, 1),\n",
              " (22741, 1),\n",
              " (29478, 1),\n",
              " (4859, 1),\n",
              " (95855, 1),\n",
              " (43767, 1),\n",
              " (33649, 1),\n",
              " (29587, 1),\n",
              " (24468, 1),\n",
              " (49993, 1),\n",
              " (33335, 1),\n",
              " (42684, 1),\n",
              " (82950, 1),\n",
              " (38234, 1),\n",
              " (42293, 1),\n",
              " (6875, 1),\n",
              " (49125, 1),\n",
              " (59276, 1),\n",
              " (62637, 1),\n",
              " (81717, 1),\n",
              " (13317, 1),\n",
              " (79014, 1),\n",
              " (73093, 1),\n",
              " (75811, 1),\n",
              " (87552, 1),\n",
              " (42769, 1),\n",
              " (39956, 1),\n",
              " (3494, 1),\n",
              " (68827, 1),\n",
              " (30784, 1),\n",
              " (64075, 1),\n",
              " (59144, 1),\n",
              " (84418, 1),\n",
              " (68487, 1),\n",
              " (27663, 1),\n",
              " (54665, 1),\n",
              " (87742, 1),\n",
              " (11765, 1),\n",
              " (49705, 1),\n",
              " (41188, 1),\n",
              " (39586, 1),\n",
              " (29420, 1),\n",
              " (19948, 1),\n",
              " (20467, 1),\n",
              " (75027, 1),\n",
              " (81819, 1),\n",
              " (45378, 1),\n",
              " (91268, 1),\n",
              " (46833, 1),\n",
              " (20016, 1),\n",
              " (83837, 1),\n",
              " (17772, 1),\n",
              " (11270, 1),\n",
              " (75781, 1),\n",
              " (4273, 1),\n",
              " (46983, 1),\n",
              " (3924, 1),\n",
              " (64013, 1),\n",
              " (51714, 1),\n",
              " (94920, 1),\n",
              " (83999, 1),\n",
              " (6217, 1),\n",
              " (47809, 1),\n",
              " (54103, 1),\n",
              " (19245, 1),\n",
              " (63514, 1),\n",
              " (13904, 1),\n",
              " (36478, 1),\n",
              " (22772, 1),\n",
              " (93873, 1),\n",
              " (34621, 1),\n",
              " (80975, 1),\n",
              " (3323, 1),\n",
              " (33585, 1),\n",
              " (27981, 1),\n",
              " (27485, 1),\n",
              " (50013, 1),\n",
              " (48664, 1),\n",
              " (1013, 1),\n",
              " (58250, 1),\n",
              " (9774, 1),\n",
              " (59213, 1),\n",
              " (94030, 1),\n",
              " (31260, 1),\n",
              " (51888, 1),\n",
              " (90027, 1),\n",
              " (86794, 1),\n",
              " (51624, 1),\n",
              " (20161, 1),\n",
              " (54193, 1),\n",
              " (26861, 1),\n",
              " (73454, 1),\n",
              " (93757, 1),\n",
              " (1740, 1),\n",
              " (5693, 1),\n",
              " (6468, 1),\n",
              " (19942, 1),\n",
              " (52568, 1),\n",
              " (48427, 1),\n",
              " (39700, 1),\n",
              " (83799, 1),\n",
              " (70449, 1),\n",
              " (2223, 1),\n",
              " (13796, 1),\n",
              " (83456, 1),\n",
              " (81933, 1),\n",
              " (95745, 1),\n",
              " (22732, 1),\n",
              " (3016, 1),\n",
              " (14817, 1),\n",
              " (6997, 1),\n",
              " (87005, 1),\n",
              " (19752, 1),\n",
              " (49812, 1),\n",
              " (96496, 1),\n",
              " (5416, 1),\n",
              " (99679, 1),\n",
              " (79783, 1),\n",
              " (18266, 1),\n",
              " (97784, 1),\n",
              " (15638, 1),\n",
              " (92688, 1),\n",
              " (49083, 1),\n",
              " (65247, 1),\n",
              " (40101, 1),\n",
              " (8096, 1),\n",
              " (44387, 1),\n",
              " (56038, 1),\n",
              " (42552, 1),\n",
              " (49880, 1),\n",
              " (22621, 1),\n",
              " (63081, 1),\n",
              " (96743, 1),\n",
              " (65966, 1),\n",
              " (25371, 1),\n",
              " (51166, 1),\n",
              " (75729, 1),\n",
              " (19527, 1),\n",
              " (39963, 1),\n",
              " (26811, 1),\n",
              " (77685, 1),\n",
              " (52204, 1),\n",
              " (99179, 1),\n",
              " (64366, 1),\n",
              " (84058, 1),\n",
              " (43422, 1),\n",
              " (74543, 1),\n",
              " (40849, 1),\n",
              " (3951, 1),\n",
              " (47610, 1),\n",
              " (93720, 1),\n",
              " (30471, 1),\n",
              " (52155, 1),\n",
              " (47423, 1),\n",
              " (58335, 1),\n",
              " (10268, 1),\n",
              " (25640, 1),\n",
              " (17087, 1),\n",
              " (26053, 1),\n",
              " (95147, 1),\n",
              " (12911, 1),\n",
              " (41892, 1),\n",
              " (27455, 1),\n",
              " (18519, 1),\n",
              " (17910, 1),\n",
              " (29971, 1),\n",
              " (33681, 1),\n",
              " (14912, 1),\n",
              " (24510, 1),\n",
              " (57273, 1),\n",
              " (51814, 1),\n",
              " (84346, 1),\n",
              " (85795, 1),\n",
              " (28996, 1),\n",
              " (60616, 1),\n",
              " (14497, 1),\n",
              " (30329, 1),\n",
              " (42651, 1),\n",
              " (97087, 1),\n",
              " (6441, 1),\n",
              " (69313, 1),\n",
              " (72807, 1),\n",
              " (27702, 1),\n",
              " (68183, 1),\n",
              " (47867, 1),\n",
              " (83901, 1),\n",
              " (7164, 1),\n",
              " (5884, 1),\n",
              " (89975, 1),\n",
              " (22379, 1),\n",
              " (15951, 1),\n",
              " (42504, 1),\n",
              " (86175, 1),\n",
              " (5182, 1),\n",
              " (9953, 1),\n",
              " (16748, 1),\n",
              " (21632, 1),\n",
              " (463, 1),\n",
              " (36647, 1),\n",
              " (60544, 1),\n",
              " (2242, 1),\n",
              " (57878, 1),\n",
              " (77383, 1),\n",
              " (9605, 1),\n",
              " (11854, 1),\n",
              " (8751, 1),\n",
              " (12244, 1),\n",
              " (47984, 1),\n",
              " (56699, 1),\n",
              " (31991, 1),\n",
              " (85842, 1),\n",
              " (34353, 1),\n",
              " (12616, 1),\n",
              " (34178, 1),\n",
              " (88871, 1),\n",
              " (64355, 1),\n",
              " (18339, 1),\n",
              " (51686, 1),\n",
              " (69670, 1),\n",
              " (56669, 1),\n",
              " (58952, 1),\n",
              " (12565, 1),\n",
              " (18188, 1),\n",
              " (71809, 1),\n",
              " (17704, 1),\n",
              " (96562, 1),\n",
              " (24777, 1),\n",
              " (55832, 1),\n",
              " (67009, 1),\n",
              " (24517, 1),\n",
              " (49605, 1),\n",
              " (23928, 1),\n",
              " (84267, 1),\n",
              " (35476, 1),\n",
              " (45609, 1),\n",
              " (83074, 1),\n",
              " (14096, 1),\n",
              " (61086, 1),\n",
              " (72804, 1),\n",
              " (31108, 1),\n",
              " (82095, 1),\n",
              " (81493, 1),\n",
              " (35347, 1),\n",
              " (4828, 1),\n",
              " (89664, 1),\n",
              " (23570, 1),\n",
              " (58663, 1),\n",
              " (95299, 1),\n",
              " (2569, 1),\n",
              " (14574, 1),\n",
              " (37608, 1),\n",
              " (57521, 1),\n",
              " (13430, 1),\n",
              " (62472, 1),\n",
              " (63166, 1),\n",
              " (44441, 1),\n",
              " (50657, 1),\n",
              " (82721, 1),\n",
              " (62789, 1),\n",
              " (77235, 1),\n",
              " (65617, 1),\n",
              " (72834, 1),\n",
              " (92814, 1),\n",
              " (81608, 1),\n",
              " (31810, 1),\n",
              " (69749, 1),\n",
              " (52764, 1),\n",
              " (26670, 1),\n",
              " (78489, 1),\n",
              " (88779, 1),\n",
              " (73234, 1),\n",
              " (94824, 1),\n",
              " (4277, 1),\n",
              " (91789, 1),\n",
              " (47784, 1),\n",
              " (28279, 1),\n",
              " (73475, 1),\n",
              " (88497, 1),\n",
              " (8389, 1),\n",
              " (33183, 1),\n",
              " (54048, 1),\n",
              " (7213, 1),\n",
              " (28634, 1),\n",
              " (13006, 1),\n",
              " (19481, 1),\n",
              " (79899, 1)]"
            ]
          },
          "metadata": {
            "tags": []
          },
          "execution_count": 81
        }
      ]
    },
    {
      "cell_type": "code",
      "metadata": {
        "id": "HPgT4BTM0dNI"
      },
      "source": [
        ""
      ],
      "execution_count": null,
      "outputs": []
    }
  ]
}